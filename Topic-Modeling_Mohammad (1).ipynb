{
 "cells": [
  {
   "cell_type": "markdown",
   "id": "bca4739c",
   "metadata": {},
   "source": [
    "## Mohammad Mahmoudighaznavi"
   ]
  },
  {
   "cell_type": "markdown",
   "id": "bce2bb89",
   "metadata": {},
   "source": [
    "# ADS 509 Assignment 5.1: Topic Modeling\n",
    "\n",
    "This notebook holds Assignment 5.1 for Module 5 in ADS 509, Applied Text Mining. Work through this notebook, writing code and answering questions where required. \n",
    "\n",
    "In this assignment you will work with a categorical corpus that accompanies `nltk`. You will build the three types of topic models described in Chapter 8 of _Blueprints for Text Analytics using Python_: NMF, LSA, and LDA. You will compare these models to the true categories. \n"
   ]
  },
  {
   "cell_type": "markdown",
   "id": "d87e2c06",
   "metadata": {},
   "source": [
    "## General Assignment Instructions\n",
    "\n",
    "These instructions are included in every assignment, to remind you of the coding standards for the class. Feel free to delete this cell after reading it. \n",
    "\n",
    "One sign of mature code is conforming to a style guide. We recommend the [Google Python Style Guide](https://google.github.io/styleguide/pyguide.html). If you use a different style guide, please include a cell with a link. \n",
    "\n",
    "Your code should be relatively easy-to-read, sensibly commented, and clean. Writing code is a messy process, so please be sure to edit your final submission. Remove any cells that are not needed or parts of cells that contain unnecessary code. Remove inessential `import` statements and make sure that all such statements are moved into the designated cell. \n",
    "\n",
    "Make use of non-code cells for written commentary. These cells should be grammatical and clearly written. In some of these cells you will have questions to answer. The questions will be marked by a \"Q:\" and will have a corresponding \"A:\" spot for you. *Make sure to answer every question marked with a `Q:` for full credit.* \n"
   ]
  },
  {
   "cell_type": "code",
   "execution_count": 24,
   "id": "c9e0dc23",
   "metadata": {},
   "outputs": [
    {
     "name": "stdout",
     "output_type": "stream",
     "text": [
      "Requirement already satisfied: pyLDAvis==3.4.1 in c:\\users\\mohammad\\anaconda3\\lib\\site-packages (3.4.1)\n",
      "Requirement already satisfied: funcy in c:\\users\\mohammad\\anaconda3\\lib\\site-packages (from pyLDAvis==3.4.1) (2.0)\n",
      "Requirement already satisfied: pandas>=2.0.0 in c:\\users\\mohammad\\anaconda3\\lib\\site-packages (from pyLDAvis==3.4.1) (2.1.1)\n",
      "Requirement already satisfied: joblib>=1.2.0 in c:\\users\\mohammad\\anaconda3\\lib\\site-packages (from pyLDAvis==3.4.1) (1.3.2)\n",
      "Requirement already satisfied: scikit-learn>=1.0.0 in c:\\users\\mohammad\\anaconda3\\lib\\site-packages (from pyLDAvis==3.4.1) (1.1.2)\n",
      "Requirement already satisfied: jinja2 in c:\\users\\mohammad\\anaconda3\\lib\\site-packages (from pyLDAvis==3.4.1) (2.11.3)\n",
      "Requirement already satisfied: gensim in c:\\users\\mohammad\\anaconda3\\lib\\site-packages (from pyLDAvis==3.4.1) (3.8.3)\n",
      "Requirement already satisfied: setuptools in c:\\users\\mohammad\\anaconda3\\lib\\site-packages (from pyLDAvis==3.4.1) (58.0.4)\n",
      "Requirement already satisfied: numpy>=1.24.2 in c:\\users\\mohammad\\anaconda3\\lib\\site-packages (from pyLDAvis==3.4.1) (1.26.0)\n",
      "Requirement already satisfied: scipy in c:\\users\\mohammad\\anaconda3\\lib\\site-packages (from pyLDAvis==3.4.1) (1.11.3)\n",
      "Requirement already satisfied: numexpr in c:\\users\\mohammad\\anaconda3\\lib\\site-packages (from pyLDAvis==3.4.1) (2.7.3)\n",
      "Requirement already satisfied: tzdata>=2022.1 in c:\\users\\mohammad\\anaconda3\\lib\\site-packages (from pandas>=2.0.0->pyLDAvis==3.4.1) (2023.3)\n",
      "Requirement already satisfied: pytz>=2020.1 in c:\\users\\mohammad\\anaconda3\\lib\\site-packages (from pandas>=2.0.0->pyLDAvis==3.4.1) (2021.3)\n",
      "Requirement already satisfied: python-dateutil>=2.8.2 in c:\\users\\mohammad\\anaconda3\\lib\\site-packages (from pandas>=2.0.0->pyLDAvis==3.4.1) (2.8.2)\n",
      "Requirement already satisfied: six>=1.5 in c:\\users\\mohammad\\anaconda3\\lib\\site-packages (from python-dateutil>=2.8.2->pandas>=2.0.0->pyLDAvis==3.4.1) (1.16.0)\n",
      "Requirement already satisfied: threadpoolctl>=2.0.0 in c:\\users\\mohammad\\anaconda3\\lib\\site-packages (from scikit-learn>=1.0.0->pyLDAvis==3.4.1) (2.2.0)\n",
      "Requirement already satisfied: smart-open>=1.8.1 in c:\\users\\mohammad\\anaconda3\\lib\\site-packages (from gensim->pyLDAvis==3.4.1) (5.2.1)\n",
      "Requirement already satisfied: MarkupSafe>=0.23 in c:\\users\\mohammad\\anaconda3\\lib\\site-packages (from jinja2->pyLDAvis==3.4.1) (1.1.1)\n"
     ]
    }
   ],
   "source": [
    "#!pip install pyLDAvis==3.4.1\n",
    "import pyLDAvis.lda_model\n",
    "import pyLDAvis.gensim_models as gensimvis\n",
    "\n",
    "\n",
    "pyLDAvis.enable_notebook()"
   ]
  },
  {
   "cell_type": "code",
   "execution_count": 68,
   "id": "dd20ad58",
   "metadata": {},
   "outputs": [
    {
     "name": "stdout",
     "output_type": "stream",
     "text": [
      "Requirement already satisfied: typing_extensions in c:\\users\\mohammad\\anaconda3\\lib\\site-packages (4.8.0)\n",
      "Note: you may need to restart the kernel to use updated packages.\n"
     ]
    }
   ],
   "source": [
    "pip install --upgrade typing_extensions"
   ]
  },
  {
   "cell_type": "code",
   "execution_count": 76,
   "id": "6c24c95f",
   "metadata": {},
   "outputs": [
    {
     "name": "stdout",
     "output_type": "stream",
     "text": [
      "^C\n",
      "Requirement already satisfied: typing_extensions in c:\\users\\mohammad\\anaconda3\\lib\\site-packages (4.8.0)\n"
     ]
    }
   ],
   "source": [
    "!pip uninstall typing_extensions\n",
    "!pip install typing_extensions\n"
   ]
  },
  {
   "cell_type": "code",
   "execution_count": 78,
   "id": "fc653077",
   "metadata": {},
   "outputs": [],
   "source": [
    "# These libraries may be useful to you\n",
    "\n",
    "!pip install pyLDAvis==3.4.1 --user  #You need to restart the Kernel after installation.\n",
    "# You also need a Python version => 3.9.0\n",
    "import nltk\n",
    "from nltk.corpus import brown\n",
    "nltk.download('brown')\n",
    "\n",
    "import numpy as np\n",
    "import pandas as pd\n",
    "from tqdm.auto import tqdm\n",
    "\n",
    "import pyLDAvis\n",
    "import pyLDAvis.lda_model\n",
    "import pyLDAvis.gensim_models\n",
    "#! pip install spacy\n",
    "import spacy\n",
    "spacy.cli.download(\"en\")\n",
    "from sklearn.feature_extraction.text import TfidfVectorizer, CountVectorizer\n",
    "from sklearn.decomposition import NMF, TruncatedSVD, LatentDirichletAllocation\n",
    "\n",
    "from spacy.lang.en.stop_words import STOP_WORDS as stopwords\n",
    "\n",
    "from collections import Counter, defaultdict\n",
    "\n",
    "nlp = spacy.load('en_core_web_sm')"
   ]
  },
  {
   "cell_type": "code",
   "execution_count": null,
   "id": "a218df60",
   "metadata": {},
   "outputs": [],
   "source": [
    "# add any additional libaries you need here\n",
    "\n"
   ]
  },
  {
   "cell_type": "code",
   "execution_count": 26,
   "id": "494de237",
   "metadata": {},
   "outputs": [],
   "source": [
    "# This function comes from the BTAP repo.\n",
    "\n",
    "def display_topics(model, features, no_top_words=5):\n",
    "    for topic, words in enumerate(model.components_):\n",
    "        total = words.sum()\n",
    "        largest = words.argsort()[::-1] # invert sort order\n",
    "        print(\"\\nTopic %02d\" % topic)\n",
    "        for i in range(0, no_top_words):\n",
    "            print(\"  %s (%2.2f)\" % (features[largest[i]], abs(words[largest[i]]*100.0/total)))"
   ]
  },
  {
   "cell_type": "markdown",
   "id": "a30a901c",
   "metadata": {},
   "source": [
    "## Getting to Know the Brown Corpus\n",
    "\n",
    "Let's spend a bit of time getting to know what's in the Brown corpus, our NLTK example of an \"overlapping\" corpus."
   ]
  },
  {
   "cell_type": "code",
   "execution_count": 27,
   "id": "457c59ed",
   "metadata": {},
   "outputs": [
    {
     "name": "stdout",
     "output_type": "stream",
     "text": [
      "For adventure we have 29 articles.\n",
      "For belles_lettres we have 75 articles.\n",
      "For editorial we have 27 articles.\n",
      "For fiction we have 29 articles.\n",
      "For government we have 30 articles.\n",
      "For hobbies we have 36 articles.\n",
      "For humor we have 9 articles.\n",
      "For learned we have 80 articles.\n",
      "For lore we have 48 articles.\n",
      "For mystery we have 24 articles.\n",
      "For news we have 44 articles.\n",
      "For religion we have 17 articles.\n",
      "For reviews we have 17 articles.\n",
      "For romance we have 29 articles.\n",
      "For science_fiction we have 6 articles.\n"
     ]
    }
   ],
   "source": [
    "# categories of articles in Brown corpus\n",
    "for category in brown.categories() :\n",
    "    print(f\"For {category} we have {len(brown.fileids(categories=category))} articles.\")"
   ]
  },
  {
   "cell_type": "markdown",
   "id": "23fb133c",
   "metadata": {},
   "source": [
    "Let's create a dataframe of the articles in of hobbies, editorial, government, news, and romance."
   ]
  },
  {
   "cell_type": "code",
   "execution_count": 28,
   "id": "18f50b9d",
   "metadata": {},
   "outputs": [
    {
     "data": {
      "text/plain": [
       "(166, 3)"
      ]
     },
     "execution_count": 28,
     "metadata": {},
     "output_type": "execute_result"
    }
   ],
   "source": [
    "categories = ['editorial','government','news','romance','hobbies'] \n",
    "\n",
    "category_list = []\n",
    "file_ids = []\n",
    "texts = []\n",
    "\n",
    "for category in categories : \n",
    "    for file_id in brown.fileids(categories=category) :\n",
    "        \n",
    "        # build some lists for a dataframe\n",
    "        category_list.append(category)\n",
    "        file_ids.append(file_id)\n",
    "        \n",
    "        text = brown.words(fileids=file_id)\n",
    "        texts.append(\" \".join(text))\n",
    "\n",
    "        \n",
    "        \n",
    "df = pd.DataFrame()\n",
    "df['category'] = category_list\n",
    "df['id'] = file_ids\n",
    "df['text'] = texts \n",
    "\n",
    "df.shape"
   ]
  },
  {
   "cell_type": "code",
   "execution_count": 29,
   "id": "586f47de",
   "metadata": {},
   "outputs": [],
   "source": [
    "# Let's add some helpful columns on the df\n",
    "df['char_len'] = df['text'].apply(len)\n",
    "df['word_len'] = df['text'].apply(lambda x: len(x.split()))\n"
   ]
  },
  {
   "cell_type": "code",
   "execution_count": 30,
   "id": "2a05d956",
   "metadata": {},
   "outputs": [
    {
     "data": {
      "text/html": [
       "<div>\n",
       "<style scoped>\n",
       "    .dataframe tbody tr th:only-of-type {\n",
       "        vertical-align: middle;\n",
       "    }\n",
       "\n",
       "    .dataframe tbody tr th {\n",
       "        vertical-align: top;\n",
       "    }\n",
       "\n",
       "    .dataframe thead th {\n",
       "        text-align: right;\n",
       "    }\n",
       "</style>\n",
       "<table border=\"1\" class=\"dataframe\">\n",
       "  <thead>\n",
       "    <tr style=\"text-align: right;\">\n",
       "      <th></th>\n",
       "      <th>category</th>\n",
       "      <th>id</th>\n",
       "      <th>text</th>\n",
       "      <th>char_len</th>\n",
       "      <th>word_len</th>\n",
       "    </tr>\n",
       "  </thead>\n",
       "  <tbody>\n",
       "    <tr>\n",
       "      <th>0</th>\n",
       "      <td>editorial</td>\n",
       "      <td>cb01</td>\n",
       "      <td>Assembly session brought much good The General...</td>\n",
       "      <td>12659</td>\n",
       "      <td>2200</td>\n",
       "    </tr>\n",
       "    <tr>\n",
       "      <th>1</th>\n",
       "      <td>editorial</td>\n",
       "      <td>cb02</td>\n",
       "      <td>Must Berlin remain divided ? ? The inference h...</td>\n",
       "      <td>12544</td>\n",
       "      <td>2234</td>\n",
       "    </tr>\n",
       "    <tr>\n",
       "      <th>2</th>\n",
       "      <td>editorial</td>\n",
       "      <td>cb03</td>\n",
       "      <td>A good man departs . Goodby , Mr. Sam . Sam Ra...</td>\n",
       "      <td>11871</td>\n",
       "      <td>2244</td>\n",
       "    </tr>\n",
       "    <tr>\n",
       "      <th>3</th>\n",
       "      <td>editorial</td>\n",
       "      <td>cb04</td>\n",
       "      <td>A shock wave from Africa Word of Dag Hammarskj...</td>\n",
       "      <td>12284</td>\n",
       "      <td>2230</td>\n",
       "    </tr>\n",
       "    <tr>\n",
       "      <th>4</th>\n",
       "      <td>editorial</td>\n",
       "      <td>cb05</td>\n",
       "      <td>Help when needed If the Dominican Republic ach...</td>\n",
       "      <td>12479</td>\n",
       "      <td>2241</td>\n",
       "    </tr>\n",
       "  </tbody>\n",
       "</table>\n",
       "</div>"
      ],
      "text/plain": [
       "    category    id                                               text  \\\n",
       "0  editorial  cb01  Assembly session brought much good The General...   \n",
       "1  editorial  cb02  Must Berlin remain divided ? ? The inference h...   \n",
       "2  editorial  cb03  A good man departs . Goodby , Mr. Sam . Sam Ra...   \n",
       "3  editorial  cb04  A shock wave from Africa Word of Dag Hammarskj...   \n",
       "4  editorial  cb05  Help when needed If the Dominican Republic ach...   \n",
       "\n",
       "   char_len  word_len  \n",
       "0     12659      2200  \n",
       "1     12544      2234  \n",
       "2     11871      2244  \n",
       "3     12284      2230  \n",
       "4     12479      2241  "
      ]
     },
     "execution_count": 30,
     "metadata": {},
     "output_type": "execute_result"
    }
   ],
   "source": [
    "df.head()"
   ]
  },
  {
   "cell_type": "code",
   "execution_count": 31,
   "id": "2128fd2d",
   "metadata": {},
   "outputs": [
    {
     "data": {
      "text/plain": [
       "<AxesSubplot:xlabel='category'>"
      ]
     },
     "execution_count": 31,
     "metadata": {},
     "output_type": "execute_result"
    },
    {
     "data": {
      "image/png": "[encoded data removed]",
      "text/plain": [
       "<Figure size 720x432 with 1 Axes>"
      ]
     },
     "metadata": {
      "needs_background": "light"
     },
     "output_type": "display_data"
    }
   ],
   "source": [
    "%matplotlib inline\n",
    "df.groupby('category').agg({'word_len': 'mean'}).plot.bar(figsize=(10,6))"
   ]
  },
  {
   "cell_type": "markdown",
   "id": "554ffeb5",
   "metadata": {},
   "source": [
    "Now do our TF-IDF and Count vectorizations."
   ]
  },
  {
   "cell_type": "code",
   "execution_count": 33,
   "id": "ee44f32a",
   "metadata": {},
   "outputs": [],
   "source": [
    "from nltk.corpus import stopwords\n",
    "\n",
    "stop_words = set(stopwords.words('english'))\n"
   ]
  },
  {
   "cell_type": "code",
   "execution_count": 34,
   "id": "1c86455c",
   "metadata": {},
   "outputs": [],
   "source": [
    "count_text_vectorizer = CountVectorizer(stop_words=stop_words, min_df=5, max_df=0.7)\n",
    "count_text_vectors = count_text_vectorizer.fit_transform(df[\"text\"])\n"
   ]
  },
  {
   "cell_type": "code",
   "execution_count": 35,
   "id": "8637e6cd",
   "metadata": {},
   "outputs": [
    {
     "data": {
      "text/plain": [
       "(166, 5073)"
      ]
     },
     "execution_count": 35,
     "metadata": {},
     "output_type": "execute_result"
    }
   ],
   "source": [
    "count_text_vectors.shape"
   ]
  },
  {
   "cell_type": "code",
   "execution_count": 43,
   "id": "8264025f",
   "metadata": {},
   "outputs": [
    {
     "name": "stderr",
     "output_type": "stream",
     "text": [
      "[nltk_data] Downloading package stopwords to\n",
      "[nltk_data]     C:\\Users\\Mohammad\\AppData\\Roaming\\nltk_data...\n",
      "[nltk_data]   Package stopwords is already up-to-date!\n"
     ]
    }
   ],
   "source": [
    "from sklearn.feature_extraction.text import TfidfVectorizer\n",
    "import nltk\n",
    "nltk.download('stopwords')\n",
    "from nltk.corpus import stopwords\n",
    "stop_words = set(stopwords.words('english'))"
   ]
  },
  {
   "cell_type": "code",
   "execution_count": 46,
   "id": "66a958ec",
   "metadata": {},
   "outputs": [],
   "source": [
    "tfidf_text_vectorizer = TfidfVectorizer(stop_words=stop_words, min_df=5, max_df=0.7)\n",
    "tfidf_text_vectors = tfidf_text_vectorizer.fit_transform(df['text'])\n"
   ]
  },
  {
   "cell_type": "code",
   "execution_count": 47,
   "id": "1d1ab938",
   "metadata": {},
   "outputs": [
    {
     "data": {
      "text/plain": [
       "(166, 5073)"
      ]
     },
     "execution_count": 47,
     "metadata": {},
     "output_type": "execute_result"
    }
   ],
   "source": [
    "tfidf_text_vectors.shape"
   ]
  },
  {
   "cell_type": "markdown",
   "id": "a1062b21",
   "metadata": {},
   "source": [
    "Q: What do the two data frames `count_text_vectors` and `tfidf_text_vectors` hold? \n",
    "\n",
    "A: CountVectorizer and TfidfVectorizer are two methods to convert text into numerical matrices. CountVectorizer transforms text into a matrix of token counts. It processes the text by converting it to lowercase, tokenizing at the word level, ignoring specified stop words, and considering words based on their frequency in documents. With parameters set, any word that appears in fewer than 5 documents or in more than 70% of the documents is disregarded, resulting in a sparse matrix of 166 documents and 4941 unique tokens. On the other hand, TfidfVectorizer translates text into a matrix of Term Frequency-Inverse Document Frequency (TF-IDF) scores, evaluating the significance of a word in a document relative to its frequency across all documents. A word with a high frequency in a specific document but low frequency in the entire dataset will have a high TF-IDF score. Both methods facilitate the transformation of textual data into numerical form, but they assign values differently: CountVectorizer focuses on raw counts, while TfidfVectorizer emphasizes word relevance."
   ]
  },
  {
   "cell_type": "markdown",
   "id": "f77c3f94",
   "metadata": {},
   "source": [
    "## Fitting a Non-Negative Matrix Factorization Model\n",
    "\n",
    "In this section the code to fit a five-topic NMF model has already been written. This code comes directly from the [BTAP repo](https://github.com/blueprints-for-text-analytics-python/blueprints-text), which will help you tremendously in the coming sections. "
   ]
  },
  {
   "cell_type": "code",
   "execution_count": 49,
   "id": "d28745a3",
   "metadata": {},
   "outputs": [],
   "source": [
    "from sklearn.decomposition import NMF, TruncatedSVD, LatentDirichletAllocation\n",
    "\n",
    "nmf_text_model = NMF(n_components=5, random_state=314)\n",
    "W_text_matrix = nmf_text_model.fit_transform(tfidf_text_vectors)\n",
    "H_text_matrix = nmf_text_model.components_"
   ]
  },
  {
   "cell_type": "code",
   "execution_count": 50,
   "id": "a67185e7",
   "metadata": {},
   "outputs": [
    {
     "name": "stdout",
     "output_type": "stream",
     "text": [
      "\n",
      "Topic 00\n",
      "  mr (0.48)\n",
      "  president (0.43)\n",
      "  kennedy (0.41)\n",
      "  united (0.40)\n",
      "  khrushchev (0.38)\n",
      "\n",
      "Topic 01\n",
      "  said (0.78)\n",
      "  thought (0.38)\n",
      "  back (0.34)\n",
      "  man (0.34)\n",
      "  little (0.31)\n",
      "\n",
      "Topic 02\n",
      "  mrs (2.38)\n",
      "  mr (0.75)\n",
      "  said (0.71)\n",
      "  miss (0.48)\n",
      "  car (0.46)\n",
      "\n",
      "Topic 03\n",
      "  state (0.38)\n",
      "  development (0.35)\n",
      "  tax (0.32)\n",
      "  sales (0.29)\n",
      "  may (0.28)\n",
      "\n",
      "Topic 04\n",
      "  game (0.97)\n",
      "  league (0.70)\n",
      "  ball (0.69)\n",
      "  baseball (0.66)\n",
      "  team (0.63)\n"
     ]
    }
   ],
   "source": [
    "display_topics(nmf_text_model, tfidf_text_vectorizer.get_feature_names_out())"
   ]
  },
  {
   "cell_type": "markdown",
   "id": "fee51e9b",
   "metadata": {},
   "source": [
    "Now some work for you to do. Compare the NMF factorization to the original categories from the Brown Corpus.\n",
    "\n",
    "We are interested in the extent to which our NMF factorization agrees or disagrees with the original categories in the corpus. For each topic in your NMF model, tally the Brown categories and interpret the results. \n"
   ]
  },
  {
   "cell_type": "code",
   "execution_count": 52,
   "id": "7c8c8eb0",
   "metadata": {},
   "outputs": [],
   "source": [
    "from collections import defaultdict\n",
    "\n",
    "topic_to_category = defaultdict(list)\n",
    "\n",
    "for idx, row in enumerate(W_text_matrix) : \n",
    "    topic = np.where(row == np.amax(row))[0]\n",
    "    category = df[\"category\"].iloc[idx]\n",
    "    \n",
    "    topic_to_category[topic[0]].append(category)"
   ]
  },
  {
   "cell_type": "code",
   "execution_count": 54,
   "id": "d801a95e",
   "metadata": {},
   "outputs": [
    {
     "name": "stdout",
     "output_type": "stream",
     "text": [
      "For topic 0 we have 35 documents.\n",
      "[('editorial', 21), ('news', 8), ('government', 5), ('hobbies', 1)]\n",
      "For topic 1 we have 44 documents.\n",
      "[('romance', 29), ('hobbies', 10), ('editorial', 5)]\n",
      "For topic 3 we have 57 documents.\n",
      "[('government', 25), ('hobbies', 22), ('news', 9), ('editorial', 1)]\n",
      "For topic 2 we have 19 documents.\n",
      "[('news', 18), ('hobbies', 1)]\n",
      "For topic 4 we have 11 documents.\n",
      "[('news', 9), ('hobbies', 2)]\n"
     ]
    }
   ],
   "source": [
    "from collections import Counter\n",
    "for topic, categories in topic_to_category.items() :\n",
    "    print(f\"For topic {topic} we have {len(categories)} documents.\")\n",
    "    print(Counter(categories).most_common(5))"
   ]
  },
  {
   "cell_type": "markdown",
   "id": "f8d4e2bc",
   "metadata": {},
   "source": [
    "Q: How does your five-topic NMF model compare to the original Brown categories? \n",
    "\n",
    "A: The NMF-derived topics from our model don't map perfectly onto the Brown categories. While some topics align (like editorial and news), others like romance or the combination of government & hobbies highlight discrepancies. This shows that NMF topics, based on word co-occurrence patterns, might differ from human-defined categories, emphasizing the importance of context in topic modeling interpretation."
   ]
  },
  {
   "cell_type": "markdown",
   "id": "82e37cb5",
   "metadata": {},
   "source": [
    "## Fitting an LSA Model\n",
    "\n",
    "In this section, follow the example from the repository and fit an LSA model (called a \"TruncatedSVD\" in `sklearn`). Again fit a five-topic model and compare it to the actual categories in the Brown corpus. Use the TF-IDF vectors for your fit, as above. \n",
    "\n",
    "To be explicit, we are once again interested in the extent to which this LSA factorization agrees or disagrees with the original categories in the corpus. For each topic in your model, tally the Brown categories and interpret the results. \n"
   ]
  },
  {
   "cell_type": "code",
   "execution_count": 55,
   "id": "00b53d3d",
   "metadata": {},
   "outputs": [],
   "source": [
    "from sklearn.decomposition import TruncatedSVD\n",
    "\n",
    "svd_para_model = TruncatedSVD(n_components=5, random_state=42)\n",
    "W_svd_para_matrix = svd_para_model.fit_transform(tfidf_text_vectors)\n",
    "H_svd_para_matric = svd_para_model.components_"
   ]
  },
  {
   "cell_type": "code",
   "execution_count": 56,
   "id": "277a7722",
   "metadata": {},
   "outputs": [
    {
     "name": "stdout",
     "output_type": "stream",
     "text": [
      "\n",
      "Topic 00\n",
      "  said (0.41)\n",
      "  mr (0.23)\n",
      "  mrs (0.20)\n",
      "  state (0.19)\n",
      "  man (0.16)\n",
      "\n",
      "Topic 01\n",
      "  said (3.71)\n",
      "  thought (2.13)\n",
      "  back (1.91)\n",
      "  got (1.90)\n",
      "  looked (1.76)\n",
      "\n",
      "Topic 02\n",
      "  mrs (4.53)\n",
      "  mr (1.94)\n",
      "  said (1.46)\n",
      "  jr (0.88)\n",
      "  jury (0.83)\n",
      "\n",
      "Topic 03\n",
      "  khrushchev (3.10)\n",
      "  berlin (2.48)\n",
      "  soviet (2.31)\n",
      "  kennedy (2.24)\n",
      "  laos (2.12)\n",
      "\n",
      "Topic 04\n",
      "  game (4.73)\n",
      "  league (3.35)\n",
      "  baseball (3.30)\n",
      "  ball (3.18)\n",
      "  team (3.05)\n"
     ]
    }
   ],
   "source": [
    "display_topics(svd_para_model, tfidf_text_vectorizer.get_feature_names_out())"
   ]
  },
  {
   "cell_type": "code",
   "execution_count": 57,
   "id": "cecc0b41",
   "metadata": {},
   "outputs": [],
   "source": [
    "topic_to_category_lsa = defaultdict(list)\n",
    "\n",
    "for idx, row in enumerate(W_svd_para_matrix) : \n",
    "    topic = np.where(row == np.amax(row))[0]\n",
    "    category_lsa = df[\"category\"].iloc[idx]\n",
    "    \n",
    "    topic_to_category_lsa[topic[0]].append(category_lsa)"
   ]
  },
  {
   "cell_type": "code",
   "execution_count": 58,
   "id": "03b4b6c0",
   "metadata": {},
   "outputs": [
    {
     "name": "stdout",
     "output_type": "stream",
     "text": [
      "for topic 0 we have 151 documents. \n",
      "[('hobbies', 36), ('news', 33), ('government', 30), ('editorial', 27), ('romance', 25)]\n",
      "for topic 4 we have 7 documents. \n",
      "[('news', 7)]\n",
      "for topic 2 we have 3 documents. \n",
      "[('news', 3)]\n",
      "for topic 3 we have 1 documents. \n",
      "[('news', 1)]\n",
      "for topic 1 we have 4 documents. \n",
      "[('romance', 4)]\n"
     ]
    }
   ],
   "source": [
    "for topic, categories in topic_to_category_lsa.items():\n",
    "    print(f\"for topic {topic} we have {len(categories)} documents. \")\n",
    "    print(Counter(categories).most_common(5))"
   ]
  },
  {
   "cell_type": "markdown",
   "id": "4d94d56f",
   "metadata": {},
   "source": [
    "Q: How does your five-topic LSA model compare to the original Brown categories? \n",
    "\n",
    "A: The LSA model's topics don't match up well with the original Brown categories. Some topics are clear, like romance, while others, like news, keep appearing. It's not as precise as the original human-made groupings. "
   ]
  },
  {
   "cell_type": "code",
   "execution_count": 59,
   "id": "377a886e",
   "metadata": {},
   "outputs": [
    {
     "name": "stdout",
     "output_type": "stream",
     "text": [
      "\n",
      "Topic 00\n",
      "  said (0.41)\n",
      "  mr (0.23)\n",
      "  mrs (0.20)\n",
      "  state (0.19)\n",
      "  man (0.16)\n",
      "\n",
      "Topic 01\n",
      "  said (3.71)\n",
      "  thought (2.13)\n",
      "  back (1.91)\n",
      "  got (1.90)\n",
      "  looked (1.76)\n",
      "\n",
      "Topic 02\n",
      "  mrs (4.53)\n",
      "  mr (1.94)\n",
      "  said (1.46)\n",
      "  jr (0.88)\n",
      "  jury (0.83)\n",
      "\n",
      "Topic 03\n",
      "  khrushchev (3.10)\n",
      "  berlin (2.48)\n",
      "  soviet (2.31)\n",
      "  kennedy (2.24)\n",
      "  laos (2.12)\n",
      "\n",
      "Topic 04\n",
      "  game (4.73)\n",
      "  league (3.35)\n",
      "  baseball (3.30)\n",
      "  ball (3.18)\n",
      "  team (3.05)\n"
     ]
    },
    {
     "name": "stderr",
     "output_type": "stream",
     "text": [
      "C:\\Users\\Mohammad\\anaconda3\\lib\\site-packages\\sklearn\\utils\\deprecation.py:87: FutureWarning: Function get_feature_names is deprecated; get_feature_names is deprecated in 1.0 and will be removed in 1.2. Please use get_feature_names_out instead.\n",
      "  warnings.warn(msg, category=FutureWarning)\n"
     ]
    }
   ],
   "source": [
    "# call display_topics on your model\n",
    "\n",
    "display_topics(svd_para_model, tfidf_text_vectorizer.get_feature_names())"
   ]
  },
  {
   "cell_type": "markdown",
   "id": "ea8b280a",
   "metadata": {},
   "source": [
    "Q: What is your interpretation of the display topics output? \n",
    "\n",
    "A: The displayed topics output provides a glimpse into the thematic structure of the Brown corpus. Topic 0 appears to delve into news or government-related discussions, as evidenced by words like \"said\" and \"state\". Topic 1, while harder to pinpoint, suggests elements of dialogue or personal narratives. Topic 2 leans towards government or formal settings, particularly with the emphasis on titles like \"mr\" and \"mrs\". Topic 3, with terms like \"khrushchev\" and \"berlin\", hints at historical or geopolitical narratives. Finally, Topic 4, with words like \"game\" and \"team\", is clearly centered around sports or recreational activities."
   ]
  },
  {
   "cell_type": "markdown",
   "id": "b4ab4d29",
   "metadata": {},
   "source": [
    "## Fitting an LDA Model\n",
    "\n",
    "Finally, fit a five-topic LDA model using the count vectors (`count_text_vectors` from above). Display the results using `pyLDAvis.display` and describe what you learn from that visualization. "
   ]
  },
  {
   "cell_type": "code",
   "execution_count": 60,
   "id": "802cb8ff",
   "metadata": {},
   "outputs": [],
   "source": [
    "# Fit your LDA model here\n",
    "\n",
    "from sklearn.decomposition import LatentDirichletAllocation\n",
    "\n",
    "lda_para_model = LatentDirichletAllocation(n_components=5, random_state=42)\n",
    "W_lda_para_matrix = lda_para_model.fit_transform(count_text_vectors)\n",
    "H_lda_para_matrix = lda_para_model.components_\n"
   ]
  },
  {
   "cell_type": "code",
   "execution_count": 61,
   "id": "ab18adf5",
   "metadata": {},
   "outputs": [
    {
     "name": "stdout",
     "output_type": "stream",
     "text": [
      "\n",
      "Topic 00\n",
      "  may (0.89)\n",
      "  state (0.87)\n",
      "  states (0.73)\n",
      "  use (0.57)\n",
      "  united (0.54)\n",
      "\n",
      "Topic 01\n",
      "  mrs (1.37)\n",
      "  feed (0.70)\n",
      "  per (0.49)\n",
      "  house (0.44)\n",
      "  pool (0.41)\n",
      "\n",
      "Topic 02\n",
      "  mr (0.60)\n",
      "  president (0.51)\n",
      "  american (0.44)\n",
      "  world (0.42)\n",
      "  united (0.40)\n",
      "\n",
      "Topic 03\n",
      "  said (1.31)\n",
      "  state (0.60)\n",
      "  000 (0.54)\n",
      "  business (0.54)\n",
      "  sales (0.44)\n",
      "\n",
      "Topic 04\n",
      "  said (1.24)\n",
      "  back (0.60)\n",
      "  old (0.50)\n",
      "  little (0.49)\n",
      "  man (0.45)\n"
     ]
    }
   ],
   "source": [
    "# Call `display_topics` on your fitted model here\n",
    "\n",
    "display_topics(lda_para_model, tfidf_text_vectorizer.get_feature_names_out())"
   ]
  },
  {
   "cell_type": "code",
   "execution_count": 62,
   "id": "4e94621c",
   "metadata": {},
   "outputs": [],
   "source": [
    "topic_to_category_lda = defaultdict(list)\n",
    "\n",
    "for idx, row in enumerate(W_lda_para_matrix) : \n",
    "    topic = np.where(row == np.amax(row))[0]\n",
    "    category_lda = df[\"category\"].iloc[idx]\n",
    "    \n",
    "    topic_to_category_lda[topic[0]].append(category_lda)"
   ]
  },
  {
   "cell_type": "code",
   "execution_count": 63,
   "id": "7240cb00",
   "metadata": {},
   "outputs": [
    {
     "name": "stdout",
     "output_type": "stream",
     "text": [
      "for topic 2 we have 53 documents. \n",
      "[('editorial', 22), ('news', 14), ('government', 9), ('hobbies', 8)]\n",
      "for topic 4 we have 46 documents. \n",
      "[('romance', 29), ('news', 8), ('hobbies', 5), ('editorial', 4)]\n",
      "for topic 1 we have 17 documents. \n",
      "[('hobbies', 10), ('news', 5), ('editorial', 1), ('government', 1)]\n",
      "for topic 3 we have 24 documents. \n",
      "[('news', 17), ('government', 5), ('hobbies', 2)]\n",
      "for topic 0 we have 26 documents. \n",
      "[('government', 15), ('hobbies', 11)]\n"
     ]
    }
   ],
   "source": [
    "for topic, categories in topic_to_category_lda.items():\n",
    "    print(f\"for topic {topic} we have {len(categories)} documents. \")\n",
    "    print(Counter(categories).most_common(5))"
   ]
  },
  {
   "cell_type": "markdown",
   "id": "f2c67876",
   "metadata": {},
   "source": [
    "Q: What inference do you draw from the displayed topics for your LDA model? \n",
    "\n",
    "A:  The LDA model's results are different from the earlier ones. It shows a wider mix of words. From what I see, topic 0 is about news, topic 1 is about government, topic 2 and 3 seem news-related, and topic 4 is about romance. \n",
    "\n",
    "\n",
    "Q: Repeat the tallying of Brown categories within your topics. How does your five-topic LDA model compare to the original Brown categories? \n",
    "\n",
    "A: Topic 0 is government, topic 1 is hobbies, topic 2 is editorial, topic 3 is news, topic 4 is romance. "
   ]
  },
  {
   "cell_type": "code",
   "execution_count": 64,
   "id": "6aae75ca",
   "metadata": {},
   "outputs": [],
   "source": [
    "import pyLDAvis.lda_model\n",
    "\n",
    "lda_display = pyLDAvis.lda_model.prepare(lda_para_model, count_text_vectors, count_text_vectorizer, sort_topics = False)"
   ]
  },
  {
   "cell_type": "code",
   "execution_count": 79,
   "id": "2a89fc15",
   "metadata": {},
   "outputs": [
    {
     "data": {
      "text/html": [
       "\n",
       "<link rel=\"stylesheet\" type=\"text/css\" href=\"https://cdn.jsdelivr.net/gh/bmabey/pyLDAvis@3.4.0/pyLDAvis/js/ldavis.v1.0.0.css\">\n",
       "\n",
       "\n",
       "<div id=\"ldavis_el329216514038959688325183768\" style=\"background-color:white;\"></div>\n",
       "<script type=\"text/javascript\">\n",
       "\n",
       "var ldavis_el329216514038959688325183768_data = {\"mdsDat\": {\"x\": [0.168383959845132, -0.06016239416965504, 9.90113673043813e-05, 0.09209332804500239, -0.20041390508778367], \"y\": [-0.03098484826722751, -0.16282065713918947, 0.061276233031373126, 0.0751308356679139, 0.05739843670712988], \"topics\": [1, 2, 3, 4, 5], \"cluster\": [1, 1, 1, 1, 1], \"Freq\": [17.55105333923203, 9.298680436984226, 30.723813612287387, 16.540749085664114, 25.885703525832238]}, \"tinfo\": {\"Term\": [\"said\", \"mrs\", \"state\", \"states\", \"united\", \"feed\", \"may\", \"tax\", \"per\", \"fiscal\", \"sales\", \"president\", \"development\", \"back\", \"shall\", \"000\", \"use\", \"got\", \"business\", \"mr\", \"house\", \"company\", \"pool\", \"court\", \"program\", \"million\", \"used\", \"little\", \"mother\", \"old\", \"ratio\", \"objectives\", \"rico\", \"puerto\", \"thickness\", \"measurements\", \"quantity\", \"thereof\", \"measurement\", \"determining\", \"boats\", \"fiscal\", \"limitations\", \"transport\", \"operational\", \"respectively\", \"drill\", \"facility\", \"appropriated\", \"fig\", \"af\", \"comprehensive\", \"ample\", \"location\", \"minimize\", \"lever\", \"towns\", \"file\", \"advantages\", \"involves\", \"clay\", \"minimum\", \"determine\", \"tool\", \"rhode\", \"shall\", \"site\", \"boat\", \"india\", \"interference\", \"stations\", \"recreation\", \"medical\", \"available\", \"payment\", \"property\", \"pieces\", \"purposes\", \"development\", \"states\", \"use\", \"may\", \"state\", \"act\", \"section\", \"inch\", \"planning\", \"used\", \"tax\", \"amount\", \"united\", \"island\", \"local\", \"system\", \"service\", \"cost\", \"water\", \"must\", \"government\", \"program\", \"number\", \"department\", \"area\", \"000\", \"panels\", \"feed\", \"fruit\", \"jane\", \"oriental\", \"installation\", \"entertain\", \"cattle\", \"cooled\", \"artist\", \"rated\", \"spice\", \"chef\", \"painter\", \"builder\", \"cooling\", \"foundation\", \"gate\", \"palace\", \"patterned\", \"cream\", \"lumber\", \"painted\", \"artists\", \"plastic\", \"temple\", \"column\", \"salt\", \"heating\", \"entrance\", \"roof\", \"signs\", \"pool\", \"chemical\", \"mrs\", \"designs\", \"materials\", \"design\", \"outdoor\", \"daily\", \"sign\", \"heat\", \"engineer\", \"wall\", \"per\", \"oil\", \"handling\", \"built\", \"house\", \"add\", \"level\", \"men\", \"work\", \"best\", \"less\", \"way\", \"name\", \"good\", \"side\", \"may\", \"board\", \"head\", \"water\", \"home\", \"much\", \"high\", \"use\", \"used\", \"right\", \"soviet\", \"nations\", \"khrushchev\", \"berlin\", \"junior\", \"faculty\", \"laos\", \"rayburn\", \"congo\", \"cuba\", \"russian\", \"moscow\", \"russia\", \"academic\", \"communism\", \"fallout\", \"castro\", \"premier\", \"shelter\", \"communists\", \"editorial\", \"democrats\", \"independence\", \"katanga\", \"cuban\", \"nuclear\", \"communist\", \"bombs\", \"africa\", \"teachers\", \"corps\", \"crisis\", \"peace\", \"political\", \"speaker\", \"china\", \"kennedy\", \"editor\", \"east\", \"students\", \"president\", \"student\", \"college\", \"war\", \"american\", \"question\", \"mr\", \"world\", \"members\", \"schools\", \"united\", \"people\", \"west\", \"country\", \"committee\", \"public\", \"party\", \"must\", \"may\", \"states\", \"us\", \"week\", \"government\", \"great\", \"state\", \"today\", \"university\", \"national\", \"program\", \"last\", \"man\", \"school\", \"day\", \"service\", \"city\", \"motors\", \"atlanta\", \"stockholders\", \"farmers\", \"wildlife\", \"payroll\", \"bid\", \"superintendent\", \"hughes\", \"jury\", \"acres\", \"jones\", \"police\", \"bankers\", \"corp\", \"commissioner\", \"ruling\", \"spokesman\", \"bond\", \"exempt\", \"pension\", \"bonds\", \"acre\", \"conspiracy\", \"textile\", \"attorneys\", \"inventories\", \"consumer\", \"shares\", \"davis\", \"stocks\", \"retail\", \"sales\", \"dallas\", \"court\", \"machinery\", \"automobile\", \"driver\", \"billion\", \"corporation\", \"company\", \"traffic\", \"farm\", \"hospital\", \"million\", \"industry\", \"business\", \"cent\", \"trust\", \"equipment\", \"market\", \"said\", \"county\", \"texas\", \"000\", \"general\", \"stock\", \"tax\", \"management\", \"production\", \"1959\", \"state\", \"city\", \"federal\", \"plan\", \"1960\", \"bill\", \"per\", \"national\", \"mr\", \"last\", \"president\", \"government\", \"10\", \"program\", \"1961\", \"home\", \"small\", \"ball\", \"player\", \"baseball\", \"hair\", \"baby\", \"clothes\", \"nice\", \"yards\", \"cousin\", \"susan\", \"yankees\", \"pink\", \"smiled\", \"mother\", \"guy\", \"beside\", \"tiny\", \"vernon\", \"charlie\", \"waited\", \"dave\", \"shoes\", \"rain\", \"pair\", \"fingers\", \"hell\", \"hits\", \"horses\", \"pittsburgh\", \"luck\", \"sat\", \"runs\", \"boy\", \"drove\", \"looked\", \"birds\", \"got\", \"game\", \"walked\", \"straight\", \"thought\", \"went\", \"team\", \"games\", \"woman\", \"knew\", \"eyes\", \"back\", \"turned\", \"seemed\", \"little\", \"came\", \"room\", \"old\", \"sun\", \"said\", \"know\", \"never\", \"something\", \"around\", \"away\", \"night\", \"door\", \"man\", \"get\", \"go\", \"left\", \"good\", \"look\", \"come\", \"way\", \"home\", \"last\", \"day\", \"much\", \"see\", \"still\", \"right\", \"three\", \"take\"], \"Freq\": [792.0, 299.0, 488.0, 334.0, 302.0, 94.0, 485.0, 176.0, 213.0, 110.0, 117.0, 296.0, 200.0, 287.0, 127.0, 281.0, 254.0, 147.0, 210.0, 387.0, 230.0, 139.0, 76.0, 107.0, 232.0, 129.0, 191.0, 238.0, 97.0, 253.0, 19.277944107510024, 18.32296254643195, 19.1421234039353, 19.141643338024274, 13.551974110883126, 12.597484108017815, 13.49005286194284, 11.645908176270217, 11.643717567112153, 11.633273712737351, 36.57714813041915, 102.96169242283425, 9.731975561633684, 8.780365617732915, 8.771106740574728, 8.759594994816464, 30.68224954140757, 7.818855372401449, 7.814357635463506, 28.669731480212782, 67.38912199062607, 6.868234271093856, 6.86811705672556, 26.434503378360986, 7.675062629658022, 14.465438877392954, 30.603490391208194, 45.94162960142553, 12.71704652410765, 5.916346648420139, 70.67692889250826, 29.670346534072376, 42.183020947878006, 26.346077151203612, 70.80192785519833, 101.38137421900046, 43.33898902601912, 35.26538733329243, 31.268462751413377, 30.32900429189228, 47.60012562436324, 30.175325014321515, 76.41672132633207, 86.93875191903955, 33.73635822937787, 67.65663493710231, 40.742397026936096, 34.287218032124734, 121.4562008729532, 174.78268855836941, 135.9110347498503, 212.65818043106106, 209.25700619054567, 78.0228111515235, 54.90679815748533, 47.40537072389854, 55.37922419916537, 97.18150850829707, 91.1419167376195, 54.31679827750699, 128.66805542578618, 67.40899301611016, 69.1593424453828, 66.33702251646801, 79.38403007215845, 59.40747674236179, 68.36115821245004, 89.79871922764343, 83.7453550524191, 75.19069400405384, 60.44231644509983, 62.79532262524367, 60.25429038666883, 62.95938355631206, 31.427097539216135, 88.84528047520405, 10.458310459246743, 8.605970824013722, 7.675120072823781, 7.674103053470239, 7.670951566905929, 18.686861730607216, 5.7995385026771675, 14.862504443011776, 6.599422675540049, 6.5325659768209965, 5.6487417346445294, 9.653361923257144, 20.85410907014048, 31.20330402135051, 27.894080894889576, 9.537480436306915, 14.271475711744587, 4.752608546597223, 10.274748214874636, 24.39797272327824, 14.106264925403414, 13.316445972048783, 21.028062463744806, 15.544434323138333, 13.846751913646605, 15.34628056855347, 17.60202751204479, 17.652711370728756, 23.5424097652121, 27.494518526655774, 51.704682033061246, 20.689870978293293, 173.83015842316277, 14.997571297330701, 31.65972265270158, 42.62661205864937, 15.553103372319498, 32.09893960504248, 33.59362675114481, 25.744807443094082, 21.644285464276216, 34.6132225652474, 61.682947487276806, 22.605499944006656, 17.42442057571001, 22.743538070971468, 56.40866593882322, 24.670552148678393, 30.408212681711788, 43.983766555179685, 47.44046633663357, 34.05414278205738, 33.165571591124625, 40.591055145151316, 28.06685531808134, 38.62547509803671, 29.81801333240367, 42.40197081274548, 32.533358672590644, 30.485622323974226, 30.803131719446913, 33.3734786473365, 31.968684939589394, 30.563451763578687, 30.97641107070291, 29.744940996472188, 29.12473302861046, 79.96078201152784, 78.96396689699235, 72.1796111940175, 64.39044304500248, 64.31556423604401, 52.70448135933505, 49.80390686016716, 45.91392657343293, 42.8745825909847, 37.15729469204946, 36.1821629958573, 37.13243813130699, 43.66734485843559, 29.375661189553156, 28.394139714993305, 30.245744512180302, 29.260914784343864, 24.501419754129348, 58.38288189236124, 23.539766473257647, 23.539187456731803, 23.53883717256024, 28.240955716861134, 19.648930376159, 20.56587927535831, 75.62524716064218, 70.97040175216499, 18.66835017845792, 17.701567539601697, 33.54566151499761, 72.97611557715399, 28.741064388668104, 101.47126818107724, 76.31012676050685, 39.06896238508933, 32.194553444746596, 111.24761975589517, 47.67237583235406, 81.6311575347726, 63.016656309574174, 214.80659655446078, 64.52201475953801, 99.53858002601395, 113.61618435031444, 186.50962091815938, 70.60839920774535, 252.6018400588403, 175.8705753676499, 105.84419353259322, 73.54807236695423, 167.8929801684588, 148.42102796866087, 79.12631019229524, 96.6533823171225, 80.76276044256713, 113.81595074878288, 77.93346642062941, 136.75889761371616, 164.4976089337013, 136.2122383516036, 94.97156116096852, 99.91203823833818, 116.6437628876357, 99.57860610970528, 136.10307976301095, 89.66860706372856, 82.44847566892317, 94.4242540856728, 94.87313703526411, 99.85926289091061, 96.01379428682307, 87.4591206271118, 91.9569568285086, 82.58121407406746, 82.50681285756782, 45.182386231513085, 22.19904496041955, 20.29208610944725, 17.414772263617056, 16.460757204165837, 14.548152744730277, 13.58261951353258, 12.633360380532686, 23.436149501793327, 44.994231297877796, 29.661932944438057, 28.6830484792005, 42.93499235367599, 10.721230392017471, 10.712697887682765, 15.153592558502732, 9.742242939046484, 8.805884862149556, 13.212011033706302, 8.803153424696546, 8.80234329154013, 29.80703942750522, 7.842506051333735, 16.404497207735613, 25.862861107476697, 6.889738763977007, 6.887527460206469, 17.925035970067384, 33.16027500088332, 11.90497155223667, 13.585671718432412, 15.226731351120277, 99.61911968317831, 48.84186584443619, 85.9612789795825, 28.507614336093337, 20.691534533680763, 24.21343819942349, 43.346464578995416, 27.661873617735896, 97.30780418760006, 32.98185363316775, 31.294918129869863, 48.13774726040242, 83.89743006369349, 65.30491732991493, 121.31111446444085, 52.32368974281113, 30.209400799133594, 66.45789246481938, 60.936802322218334, 294.6189733961556, 63.86240701764131, 41.19601221422971, 121.45317388377686, 94.79001945861111, 49.25155717302919, 84.53661563680328, 50.31866009394181, 50.291521032970046, 41.78645466256854, 136.53855552138157, 83.47198965097316, 58.54079078319933, 59.14520293715407, 61.24954447991322, 51.61330879486467, 75.22650151975837, 73.70506473280965, 82.2907512895129, 76.83537851502497, 68.16087199840236, 66.89399782013707, 56.4749516142929, 61.5566543458084, 52.216877296666006, 54.86694023488718, 52.26052766592849, 62.6162451524346, 47.9899121233774, 39.20883489588904, 35.308210232863466, 35.30327717894672, 32.27032579531762, 27.49912265247847, 26.527438841453606, 26.524733940603934, 26.505382663643537, 25.54810566763965, 25.543629198910267, 26.423662579056945, 94.31090599407324, 22.61880232922834, 21.64622091284926, 20.65251338576087, 19.66536372475231, 18.72587590675002, 18.725614455981, 18.72405585977765, 18.705547848542643, 18.704740514107613, 17.733206132673605, 17.724153573893947, 15.801037823180469, 15.794342362860629, 15.787713615752875, 15.776984162335403, 15.77050781358446, 36.16557756795983, 38.68949153241462, 77.42260056560005, 17.622892588095876, 78.50611436968269, 30.169294529424906, 130.6342251554028, 81.96724303587699, 44.07731522742575, 41.476115717287115, 120.77939329265008, 118.20444654297329, 51.95523404766515, 29.252861392025558, 50.20220706883418, 78.29173946030214, 82.97425457510796, 213.48146231144068, 66.77455374721714, 63.635862020402826, 173.3359899075396, 122.2375728154618, 82.42016357236147, 177.07408666634132, 47.59142491743619, 436.6464348290182, 132.28259921056406, 135.0454393553149, 86.46082764876292, 112.65759528141102, 89.83397516876319, 102.3129912504982, 57.76184381326719, 160.2490323676622, 145.7458649627956, 119.20538794652843, 107.0005912367973, 156.6615419790801, 88.86205217770366, 107.27308818044875, 129.94529523908287, 126.24056925978056, 131.29285075156207, 126.34673397849063, 116.51119000600495, 107.44635362880013, 102.3835411348357, 98.16664810280052, 94.00588145702157, 91.57153650532747], \"Total\": [792.0, 299.0, 488.0, 334.0, 302.0, 94.0, 485.0, 176.0, 213.0, 110.0, 117.0, 296.0, 200.0, 287.0, 127.0, 281.0, 254.0, 147.0, 210.0, 387.0, 230.0, 139.0, 76.0, 107.0, 232.0, 129.0, 191.0, 238.0, 97.0, 253.0, 20.05108151891629, 19.096459092199506, 20.053577739909766, 20.053586914105196, 14.323467119094921, 13.368852487700895, 14.324700756500425, 12.414311160698347, 12.41432493576038, 12.414480725170938, 39.159090675553, 110.8143366062555, 10.505199708572588, 9.550542105643794, 9.550745642641449, 9.550930092886802, 33.455409691609624, 8.595961631708255, 8.59621037227242, 31.55096567081167, 74.34173575558626, 7.64144129897411, 7.64142721159722, 29.585810732038173, 8.598109544204128, 16.235569869619393, 34.404437800465494, 51.65074919897159, 14.339411864027246, 6.686805407472197, 81.21991759154479, 34.44443368064089, 49.73882969395152, 30.569180021336493, 86.01759921608364, 127.38155337805925, 52.4232809882952, 42.13242627566581, 37.2864056483786, 36.312504807047155, 59.395114580720936, 36.380461654485686, 101.26629054284982, 120.40512068546929, 42.028058975455885, 95.58603803038538, 52.66252140441022, 42.9783038546686, 200.36295452717482, 334.8394918218563, 254.65594837780384, 485.93889759932455, 488.79099893330454, 131.3674918614442, 82.97713471692471, 67.77740489843185, 85.17981283146149, 191.57207160688282, 176.85628921612997, 83.28760805294881, 302.920977952681, 119.83160889774926, 129.4602920710661, 143.03689995777705, 206.01087927825355, 116.17977987062577, 161.8720468044928, 329.2344560698548, 276.4628692741202, 232.00667287973263, 136.92020625815462, 157.61339974905806, 146.13781357381754, 281.1382596407385, 32.80518250999859, 94.76753986818184, 11.25963154866571, 9.38626094373461, 8.449803065668007, 8.449808302900022, 8.449972449377478, 20.667307978843787, 6.577254534327392, 16.92468454779143, 7.518368997187034, 7.521388288274946, 6.583187168736806, 11.290457586013794, 24.44820645924996, 36.69751621566115, 32.90836368810237, 11.277230590508971, 16.944398535394907, 5.6455588148447795, 12.24286837725015, 29.192302905118595, 16.956917442139947, 16.013079895802274, 25.442750478868398, 18.843706059973012, 16.95007911365565, 18.839458434200267, 21.62011479992451, 21.68725412940722, 29.2362749380162, 35.84718512939142, 76.39596219443922, 27.30166993871466, 299.73162564692086, 19.78987210547479, 51.05135369988844, 74.79350713600566, 20.785290321185357, 53.15846943923661, 56.86611928043372, 41.682101003944226, 33.04594246357372, 65.65354462578193, 213.24175978253757, 39.74311387025552, 25.499620362504665, 41.74141179148437, 230.68408993483703, 49.46161707307348, 83.70703529527883, 192.6721542167632, 258.5077299220564, 138.5754890033724, 134.20053188044113, 274.4835600776363, 85.5097548498509, 307.5478313212372, 114.30142544222338, 485.93889759932455, 174.29895974765813, 134.8635328342041, 161.8720468044928, 265.5171345137119, 280.2090130655842, 218.49459455576192, 254.65594837780384, 191.57207160688282, 213.51400315766665, 80.72716854132726, 79.75399688608246, 72.94495041137556, 65.16259440276235, 65.16002154478457, 53.4889942544718, 50.57099907891623, 46.67989675372973, 43.759640911595966, 37.924855932090786, 36.95205624033604, 37.924451647961206, 44.72956212653715, 30.142615870587104, 29.169684783283223, 31.11159677882703, 30.14081665512833, 25.278566439869767, 60.28004882176255, 24.305967506857726, 24.30594808718736, 24.30595507985289, 29.1668121843317, 20.414856668215318, 21.38670189324414, 78.7369112694433, 73.90227915386893, 19.441849925211994, 18.46925177301417, 35.008367749673326, 76.79709058841915, 30.132646996504928, 110.8863015351701, 83.54001192027998, 41.78455074069082, 34.03665998105066, 131.00527193047407, 52.50995569112884, 95.14059225644158, 71.79139211409941, 296.3168679341067, 74.81185191758587, 125.43605545952023, 146.60354083563647, 263.8046797995007, 84.51397948335386, 387.3104214504373, 256.0757878518518, 141.25932137264124, 92.15316642116244, 302.920977952681, 265.90575413242095, 106.61910990333867, 145.10270252905053, 110.41714435257549, 201.71295088755554, 108.55499075071575, 329.2344560698548, 485.93889759932455, 334.8394918218563, 165.30555694524622, 189.39612071507685, 276.4628692741202, 202.3698378086312, 488.79099893330454, 159.2788212959367, 124.65120663175976, 215.1005772605563, 232.00667287973263, 327.3281064715791, 281.84367988860095, 172.20760264166773, 302.7207773483457, 206.01087927825355, 214.2179543877895, 45.95391266141083, 22.978085260432017, 21.063312977767147, 18.191273710692993, 17.233939057935846, 15.319284637883708, 14.362093160223122, 13.404623577831817, 24.903597167501488, 47.908342530466655, 31.615674891389478, 30.658450300505955, 45.99018258504974, 11.489947031104062, 11.489919788735822, 16.283301204190412, 10.533009129831466, 9.575280494744577, 14.36809138292668, 9.575279649754236, 9.575275148597902, 32.55505480634935, 8.617849491034956, 18.210456212127145, 28.71924401128435, 7.660647485636758, 7.660581313113946, 20.075178822303965, 37.33791842268007, 13.416083718325755, 15.316503068537846, 17.206901223084394, 117.78193044587974, 58.38951553085499, 107.35041785108135, 33.560679580788424, 23.928572562097102, 28.68292450236631, 54.738554566961575, 33.491690272258346, 139.00159379789665, 41.262788646852, 39.375643933139216, 66.27446048442671, 129.60953072072343, 96.4917591724331, 210.51067817545066, 75.02955413748239, 38.41352489954307, 104.93760651666216, 95.75196016951055, 792.9850580094858, 103.91828654962603, 58.64891656409853, 281.1382596407385, 200.9372959406958, 77.70758049646841, 176.85628921612997, 84.85746188900639, 84.9992798431803, 63.237435457314255, 488.79099893330454, 214.2179543877895, 114.0333712612518, 119.59335945186845, 129.46840445983133, 92.61426235089152, 213.24175978253757, 215.1005772605563, 387.3104214504373, 327.3281064715791, 296.3168679341067, 276.4628692741202, 145.39566202359023, 232.00667287973263, 115.04750768633448, 265.5171345137119, 210.47397657397275, 63.385900795312665, 48.754744059140684, 39.9759536833386, 36.074251294790834, 36.07416594510997, 33.14357711942873, 28.27084109952746, 27.295468056535245, 27.29539253745835, 27.29536319818838, 26.320030272277602, 26.319763482138782, 27.29526029488181, 97.43754095356539, 23.393631616543814, 22.418328507586466, 21.442768712883627, 20.466809199455536, 19.49218936033503, 19.492184206042406, 19.492146771803245, 19.492079893692456, 19.49177642742237, 18.516229223575355, 18.51611461586254, 16.565943264723092, 16.565767289590383, 16.5656533818147, 16.56570926188602, 16.56571375091201, 38.02202428481078, 40.8939663099292, 82.77717746901206, 18.51436254698627, 85.6890896700083, 32.16452621198167, 147.07508496597873, 90.55631777943017, 47.66156814860502, 44.794786830381256, 140.1870879049815, 137.33759783535237, 57.43461917970467, 31.19393038180768, 55.569829548020856, 90.53228125886179, 98.27147165506464, 287.3172943076554, 78.88468981778526, 75.01920021521819, 238.35476717379262, 162.31875746118175, 102.85511294744627, 253.70361627666426, 54.517553612292616, 792.9850580094858, 191.60457525415546, 197.51907544683576, 114.97533298326921, 164.02569805426117, 123.41542226413952, 151.3402389921592, 69.90801591863509, 281.84367988860095, 248.80000500784894, 188.41704188192523, 162.10109354012047, 307.5478313212372, 130.0715376003248, 185.40498716258548, 274.4835600776363, 265.5171345137119, 327.3281064715791, 302.7207773483457, 280.2090130655842, 229.47458327864558, 204.3141490272988, 213.51400315766665, 249.04840858974023, 233.16954320074973], \"Category\": [\"Default\", \"Default\", \"Default\", \"Default\", \"Default\", \"Default\", \"Default\", \"Default\", \"Default\", \"Default\", \"Default\", \"Default\", \"Default\", \"Default\", \"Default\", \"Default\", \"Default\", \"Default\", \"Default\", \"Default\", \"Default\", \"Default\", \"Default\", \"Default\", \"Default\", \"Default\", \"Default\", \"Default\", \"Default\", \"Default\", \"Topic1\", \"Topic1\", \"Topic1\", \"Topic1\", \"Topic1\", \"Topic1\", \"Topic1\", \"Topic1\", \"Topic1\", \"Topic1\", \"Topic1\", \"Topic1\", \"Topic1\", \"Topic1\", \"Topic1\", \"Topic1\", \"Topic1\", \"Topic1\", \"Topic1\", \"Topic1\", \"Topic1\", \"Topic1\", \"Topic1\", \"Topic1\", \"Topic1\", \"Topic1\", \"Topic1\", \"Topic1\", \"Topic1\", \"Topic1\", \"Topic1\", \"Topic1\", \"Topic1\", \"Topic1\", \"Topic1\", \"Topic1\", \"Topic1\", \"Topic1\", \"Topic1\", \"Topic1\", \"Topic1\", \"Topic1\", \"Topic1\", \"Topic1\", \"Topic1\", \"Topic1\", \"Topic1\", \"Topic1\", \"Topic1\", \"Topic1\", \"Topic1\", \"Topic1\", \"Topic1\", \"Topic1\", \"Topic1\", \"Topic1\", \"Topic1\", \"Topic1\", \"Topic1\", \"Topic1\", \"Topic1\", \"Topic1\", \"Topic1\", \"Topic1\", \"Topic1\", \"Topic1\", \"Topic1\", \"Topic1\", \"Topic1\", \"Topic1\", \"Topic1\", \"Topic1\", \"Topic1\", \"Topic1\", \"Topic2\", \"Topic2\", \"Topic2\", \"Topic2\", \"Topic2\", \"Topic2\", \"Topic2\", \"Topic2\", \"Topic2\", \"Topic2\", \"Topic2\", \"Topic2\", \"Topic2\", \"Topic2\", \"Topic2\", \"Topic2\", \"Topic2\", \"Topic2\", \"Topic2\", \"Topic2\", \"Topic2\", \"Topic2\", \"Topic2\", \"Topic2\", \"Topic2\", \"Topic2\", \"Topic2\", \"Topic2\", \"Topic2\", \"Topic2\", \"Topic2\", \"Topic2\", \"Topic2\", \"Topic2\", \"Topic2\", \"Topic2\", \"Topic2\", \"Topic2\", \"Topic2\", \"Topic2\", \"Topic2\", \"Topic2\", \"Topic2\", \"Topic2\", \"Topic2\", \"Topic2\", \"Topic2\", \"Topic2\", \"Topic2\", \"Topic2\", \"Topic2\", \"Topic2\", \"Topic2\", \"Topic2\", \"Topic2\", \"Topic2\", \"Topic2\", \"Topic2\", \"Topic2\", \"Topic2\", \"Topic2\", \"Topic2\", \"Topic2\", \"Topic2\", \"Topic2\", \"Topic2\", \"Topic2\", \"Topic2\", \"Topic2\", \"Topic3\", \"Topic3\", \"Topic3\", \"Topic3\", \"Topic3\", \"Topic3\", \"Topic3\", \"Topic3\", \"Topic3\", \"Topic3\", \"Topic3\", \"Topic3\", \"Topic3\", \"Topic3\", \"Topic3\", \"Topic3\", \"Topic3\", \"Topic3\", \"Topic3\", \"Topic3\", \"Topic3\", \"Topic3\", \"Topic3\", \"Topic3\", \"Topic3\", \"Topic3\", \"Topic3\", \"Topic3\", \"Topic3\", \"Topic3\", \"Topic3\", \"Topic3\", \"Topic3\", \"Topic3\", \"Topic3\", \"Topic3\", \"Topic3\", \"Topic3\", \"Topic3\", \"Topic3\", \"Topic3\", \"Topic3\", \"Topic3\", \"Topic3\", \"Topic3\", \"Topic3\", \"Topic3\", \"Topic3\", \"Topic3\", \"Topic3\", \"Topic3\", \"Topic3\", \"Topic3\", \"Topic3\", \"Topic3\", \"Topic3\", \"Topic3\", \"Topic3\", \"Topic3\", \"Topic3\", \"Topic3\", \"Topic3\", \"Topic3\", \"Topic3\", \"Topic3\", \"Topic3\", \"Topic3\", \"Topic3\", \"Topic3\", \"Topic3\", \"Topic3\", \"Topic3\", \"Topic3\", \"Topic3\", \"Topic3\", \"Topic4\", \"Topic4\", \"Topic4\", \"Topic4\", \"Topic4\", \"Topic4\", \"Topic4\", \"Topic4\", \"Topic4\", \"Topic4\", \"Topic4\", \"Topic4\", \"Topic4\", \"Topic4\", \"Topic4\", \"Topic4\", \"Topic4\", \"Topic4\", \"Topic4\", \"Topic4\", \"Topic4\", \"Topic4\", \"Topic4\", \"Topic4\", \"Topic4\", \"Topic4\", \"Topic4\", \"Topic4\", \"Topic4\", \"Topic4\", \"Topic4\", \"Topic4\", \"Topic4\", \"Topic4\", \"Topic4\", \"Topic4\", \"Topic4\", \"Topic4\", \"Topic4\", \"Topic4\", \"Topic4\", \"Topic4\", \"Topic4\", \"Topic4\", \"Topic4\", \"Topic4\", \"Topic4\", \"Topic4\", \"Topic4\", \"Topic4\", \"Topic4\", \"Topic4\", \"Topic4\", \"Topic4\", \"Topic4\", \"Topic4\", \"Topic4\", \"Topic4\", \"Topic4\", \"Topic4\", \"Topic4\", \"Topic4\", \"Topic4\", \"Topic4\", \"Topic4\", \"Topic4\", \"Topic4\", \"Topic4\", \"Topic4\", \"Topic4\", \"Topic4\", \"Topic4\", \"Topic4\", \"Topic4\", \"Topic4\", \"Topic4\", \"Topic4\", \"Topic4\", \"Topic5\", \"Topic5\", \"Topic5\", \"Topic5\", \"Topic5\", \"Topic5\", \"Topic5\", \"Topic5\", \"Topic5\", \"Topic5\", \"Topic5\", \"Topic5\", \"Topic5\", \"Topic5\", \"Topic5\", \"Topic5\", \"Topic5\", \"Topic5\", \"Topic5\", \"Topic5\", \"Topic5\", \"Topic5\", \"Topic5\", \"Topic5\", \"Topic5\", \"Topic5\", \"Topic5\", \"Topic5\", \"Topic5\", \"Topic5\", \"Topic5\", \"Topic5\", \"Topic5\", \"Topic5\", \"Topic5\", \"Topic5\", \"Topic5\", \"Topic5\", \"Topic5\", \"Topic5\", \"Topic5\", \"Topic5\", \"Topic5\", \"Topic5\", \"Topic5\", \"Topic5\", \"Topic5\", \"Topic5\", \"Topic5\", \"Topic5\", \"Topic5\", \"Topic5\", \"Topic5\", \"Topic5\", \"Topic5\", \"Topic5\", \"Topic5\", \"Topic5\", \"Topic5\", \"Topic5\", \"Topic5\", \"Topic5\", \"Topic5\", \"Topic5\", \"Topic5\", \"Topic5\", \"Topic5\", \"Topic5\", \"Topic5\", \"Topic5\", \"Topic5\", \"Topic5\", \"Topic5\", \"Topic5\", \"Topic5\", \"Topic5\", \"Topic5\", \"Topic5\", \"Topic5\", \"Topic5\"], \"logprob\": [30.0, 29.0, 28.0, 27.0, 26.0, 25.0, 24.0, 23.0, 22.0, 21.0, 20.0, 19.0, 18.0, 17.0, 16.0, 15.0, 14.0, 13.0, 12.0, 11.0, 10.0, 9.0, 8.0, 7.0, 6.0, 5.0, 4.0, 3.0, 2.0, 1.0, -7.125, -7.1758, -7.132, -7.132, -7.4774, -7.5504, -7.482, -7.629, -7.6291, -7.63, -6.4845, -5.4496, -7.8085, -7.9114, -7.9125, -7.9138, -6.6602, -8.0274, -8.028, -6.7281, -5.8734, -8.157, -8.157, -6.8092, -8.0459, -7.4122, -6.6628, -6.2565, -7.541, -8.3062, -5.8258, -6.6938, -6.3419, -6.8126, -5.824, -5.465, -6.3149, -6.521, -6.6413, -6.6718, -6.2211, -6.6769, -5.7477, -5.6187, -6.5653, -5.8695, -6.3766, -6.5491, -5.2844, -4.9204, -5.1719, -4.7242, -4.7404, -5.7269, -6.0783, -6.2252, -6.0697, -5.5073, -5.5715, -6.0891, -5.2267, -5.8731, -5.8475, -5.8892, -5.7096, -5.9995, -5.8591, -5.5863, -5.6561, -5.7639, -5.9822, -5.944, -5.9853, -5.9414, -6.001, -4.9618, -7.1013, -7.2962, -7.4107, -7.4108, -7.4112, -6.5209, -7.6909, -6.7498, -7.5617, -7.5719, -7.7172, -7.1814, -6.4111, -6.0081, -6.1203, -7.1934, -6.7904, -7.89, -7.119, -6.2542, -6.8021, -6.8597, -6.4028, -6.705, -6.8206, -6.7178, -6.5807, -6.5778, -6.2899, -6.1347, -5.5031, -6.419, -4.2906, -6.7408, -5.9936, -5.6962, -6.7044, -5.9798, -5.9343, -6.2004, -6.3739, -5.9044, -5.3267, -6.3305, -6.5908, -6.3244, -5.416, -6.2431, -6.034, -5.6649, -5.5892, -5.9207, -5.9472, -5.7451, -6.1141, -5.7948, -6.0536, -5.7015, -5.9664, -6.0314, -6.0211, -5.9409, -5.9839, -6.0289, -6.0154, -6.056, -6.0771, -6.2623, -6.2748, -6.3647, -6.4789, -6.48, -6.6791, -6.7357, -6.8171, -6.8856, -7.0287, -7.0553, -7.0293, -6.8672, -7.2637, -7.2977, -7.2345, -7.2676, -7.4451, -6.5768, -7.4851, -7.4852, -7.4852, -7.3031, -7.6658, -7.6202, -6.318, -6.3816, -7.717, -7.7702, -7.1309, -6.3537, -7.2855, -6.0241, -6.309, -6.9785, -7.172, -5.9321, -6.7795, -6.2416, -6.5004, -5.2741, -6.4768, -6.0433, -5.911, -5.4154, -6.3867, -5.112, -5.4741, -5.9819, -6.3459, -5.5205, -5.6438, -6.2728, -6.0727, -6.2523, -5.9093, -6.288, -5.7256, -5.5409, -5.7296, -6.0903, -6.0395, -5.8847, -6.0429, -5.7304, -6.1477, -6.2317, -6.096, -6.0913, -6.0401, -6.0793, -6.1727, -6.1225, -6.2301, -6.231, -6.2139, -6.9246, -7.0144, -7.1673, -7.2236, -7.3472, -7.4158, -7.4883, -6.8703, -6.2181, -6.6348, -6.6683, -6.2649, -7.6524, -7.6532, -7.3064, -7.7482, -7.8492, -7.4435, -7.8495, -7.8496, -6.6299, -7.9651, -7.2271, -6.7718, -8.0946, -8.0949, -7.1384, -6.5233, -7.5477, -7.4156, -7.3016, -5.4233, -6.136, -5.5707, -6.6745, -6.9949, -6.8377, -6.2554, -6.7046, -5.4467, -6.5287, -6.5812, -6.1506, -5.595, -5.8456, -5.2263, -6.0672, -6.6165, -5.8281, -5.9148, -4.3389, -5.8679, -6.3063, -5.2251, -5.473, -6.1277, -5.5874, -6.1063, -6.1068, -6.2921, -5.108, -5.6001, -5.9549, -5.9446, -5.9097, -6.0808, -5.7041, -5.7246, -5.6144, -5.683, -5.8028, -5.8215, -5.9908, -5.9047, -6.0692, -6.0197, -6.0684, -6.3355, -6.6015, -6.8036, -6.9084, -6.9085, -6.9983, -7.1583, -7.1943, -7.1944, -7.1951, -7.2319, -7.2321, -7.1982, -5.9259, -7.3537, -7.3977, -7.4447, -7.4936, -7.5426, -7.5426, -7.5427, -7.5437, -7.5437, -7.5971, -7.5976, -7.7124, -7.7128, -7.7133, -7.7139, -7.7143, -6.8844, -6.8169, -6.1232, -7.6033, -6.1093, -7.0657, -5.6001, -6.0662, -6.6865, -6.7474, -5.6785, -5.7001, -6.5221, -7.0965, -6.5564, -6.112, -6.054, -5.1089, -6.2712, -6.3193, -5.3173, -5.6665, -6.0607, -5.2959, -6.6098, -4.3934, -5.5876, -5.5669, -6.0128, -5.7481, -5.9745, -5.8445, -6.4162, -5.3958, -5.4906, -5.6916, -5.7997, -5.4184, -5.9854, -5.7971, -5.6054, -5.6343, -5.5951, -5.6335, -5.7145, -5.7955, -5.8438, -5.8858, -5.9291, -5.9554], \"loglift\": [30.0, 29.0, 28.0, 27.0, 26.0, 25.0, 24.0, 23.0, 22.0, 21.0, 20.0, 19.0, 18.0, 17.0, 16.0, 15.0, 14.0, 13.0, 12.0, 11.0, 10.0, 9.0, 8.0, 7.0, 6.0, 5.0, 4.0, 3.0, 2.0, 1.0, 1.7007, 1.6987, 1.6935, 1.6935, 1.6847, 1.6806, 1.68, 1.6762, 1.676, 1.6751, 1.6718, 1.6666, 1.6636, 1.656, 1.6549, 1.6536, 1.6535, 1.6453, 1.6447, 1.6443, 1.6419, 1.6334, 1.6334, 1.6274, 1.6265, 1.6246, 1.623, 1.6229, 1.62, 1.6176, 1.601, 1.5909, 1.5753, 1.5914, 1.5454, 1.5118, 1.5498, 1.5621, 1.564, 1.56, 1.5187, 1.553, 1.4585, 1.4144, 1.5203, 1.3945, 1.4834, 1.5141, 1.2395, 1.0899, 1.1121, 0.9137, 0.8917, 1.2191, 1.3271, 1.3826, 1.3095, 1.0614, 1.0771, 1.3126, 0.8838, 1.1647, 1.1131, 0.9717, 0.7864, 1.0693, 0.8781, 0.4409, 0.5458, 0.6133, 0.9223, 0.8198, 0.8541, 0.2437, 2.3324, 2.3108, 2.3015, 2.2885, 2.2791, 2.279, 2.2786, 2.2746, 2.2495, 2.2454, 2.2449, 2.2343, 2.2222, 2.2186, 2.2163, 2.2131, 2.21, 2.2077, 2.2036, 2.2031, 2.2, 2.1959, 2.1912, 2.1909, 2.1847, 2.1828, 2.1731, 2.1702, 2.1697, 2.1695, 2.1587, 2.11, 1.9849, 2.098, 1.8305, 2.098, 1.8975, 1.813, 2.0853, 1.8708, 1.8489, 1.8935, 1.9521, 1.7351, 1.1349, 1.8111, 1.9945, 1.7681, 0.9669, 1.6797, 1.3627, 0.8981, 0.6798, 0.9718, 0.9775, 0.464, 1.2613, 0.3006, 1.0316, -0.0636, 0.6968, 0.8883, 0.7161, 0.3014, 0.2045, 0.4083, 0.2686, 0.5127, 0.3832, 1.1706, 1.1702, 1.1696, 1.1682, 1.1671, 1.1654, 1.1648, 1.1636, 1.1597, 1.1597, 1.1591, 1.159, 1.1561, 1.1544, 1.1532, 1.1519, 1.1505, 1.1489, 1.1482, 1.1481, 1.1481, 1.1481, 1.1479, 1.1419, 1.141, 1.1398, 1.1397, 1.1395, 1.1377, 1.1375, 1.1291, 1.1328, 1.0914, 1.0896, 1.1129, 1.1245, 1.0167, 1.0835, 1.027, 1.0498, 0.8584, 1.0322, 0.9489, 0.9252, 0.8334, 1.0004, 0.7527, 0.8044, 0.8915, 0.9546, 0.59, 0.597, 0.8819, 0.7738, 0.8674, 0.6079, 0.8487, 0.3016, 0.0969, 0.2807, 0.6259, 0.5406, 0.3172, 0.471, -0.0984, 0.6056, 0.7668, 0.3568, 0.2859, -0.0071, 0.1033, 0.5026, -0.0114, 0.266, 0.226, 1.7824, 1.7649, 1.762, 1.7557, 1.7534, 1.7477, 1.7435, 1.7401, 1.7386, 1.7366, 1.7356, 1.7327, 1.7306, 1.7301, 1.7293, 1.7274, 1.7213, 1.7156, 1.7155, 1.7153, 1.7152, 1.7112, 1.7051, 1.6949, 1.6946, 1.6933, 1.693, 1.6861, 1.6807, 1.6798, 1.6794, 1.6771, 1.6319, 1.6208, 1.5771, 1.6362, 1.654, 1.6299, 1.566, 1.6081, 1.4427, 1.5753, 1.5697, 1.4796, 1.3644, 1.409, 1.2482, 1.4389, 1.5591, 1.3425, 1.3474, 0.8092, 1.3125, 1.4461, 0.96, 1.048, 1.3433, 1.0612, 1.2767, 1.2745, 1.385, 0.524, 0.8569, 1.1326, 1.0952, 1.0509, 1.2147, 0.7574, 0.7283, 0.2504, 0.35, 0.3298, 0.3804, 0.8537, 0.4725, 1.0094, 0.2226, 0.4062, 1.3393, 1.3357, 1.3321, 1.33, 1.3299, 1.3248, 1.3238, 1.3229, 1.3228, 1.3221, 1.3217, 1.3215, 1.319, 1.3189, 1.3178, 1.3164, 1.3139, 1.3115, 1.3114, 1.3114, 1.3113, 1.3103, 1.3103, 1.3083, 1.3078, 1.3042, 1.3038, 1.3034, 1.3027, 1.3023, 1.3014, 1.2961, 1.2846, 1.3021, 1.2639, 1.2874, 1.2329, 1.2518, 1.2733, 1.2745, 1.2025, 1.2015, 1.2512, 1.2872, 1.2499, 1.2062, 1.1823, 1.0544, 1.1848, 1.1869, 1.033, 1.0679, 1.13, 0.9919, 1.2156, 0.7548, 0.981, 0.9713, 1.0665, 0.9758, 1.0339, 0.96, 1.1606, 0.7869, 0.8167, 0.8937, 0.9361, 0.6769, 0.9705, 0.8043, 0.6037, 0.608, 0.4379, 0.4777, 0.4739, 0.5927, 0.6605, 0.5744, 0.3772, 0.4168]}, \"token.table\": {\"Topic\": [1, 2, 3, 4, 1, 2, 3, 4, 5, 1, 3, 4, 5, 1, 2, 3, 4, 5, 1, 2, 3, 4, 5, 3, 4, 4, 5, 1, 3, 4, 5, 1, 2, 3, 1, 3, 1, 2, 3, 1, 2, 3, 4, 5, 1, 3, 4, 5, 1, 1, 1, 2, 3, 4, 5, 1, 2, 3, 4, 5, 2, 3, 2, 3, 5, 4, 4, 1, 4, 1, 2, 3, 4, 1, 2, 3, 4, 5, 5, 1, 2, 3, 4, 5, 5, 4, 5, 3, 5, 1, 2, 3, 4, 5, 4, 3, 4, 5, 3, 4, 3, 5, 1, 2, 3, 4, 5, 1, 3, 5, 1, 3, 4, 3, 3, 4, 1, 3, 4, 2, 4, 5, 2, 3, 4, 1, 2, 3, 4, 5, 1, 2, 3, 4, 5, 1, 2, 3, 4, 5, 3, 2, 5, 3, 4, 5, 5, 2, 1, 2, 4, 3, 5, 1, 2, 3, 4, 5, 1, 2, 3, 4, 5, 5, 3, 4, 5, 2, 4, 5, 1, 2, 3, 4, 5, 4, 5, 3, 4, 3, 3, 4, 5, 3, 1, 2, 3, 4, 5, 1, 3, 4, 5, 2, 4, 2, 1, 2, 5, 4, 1, 4, 1, 3, 4, 5, 1, 2, 3, 4, 5, 1, 2, 3, 4, 5, 1, 3, 4, 5, 1, 2, 3, 4, 5, 5, 2, 5, 3, 4, 3, 3, 1, 2, 3, 4, 5, 2, 4, 5, 5, 3, 4, 1, 2, 3, 4, 5, 3, 1, 3, 4, 1, 2, 3, 4, 1, 2, 3, 1, 3, 4, 1, 1, 2, 3, 4, 2, 3, 5, 1, 3, 5, 2, 4, 5, 5, 1, 2, 3, 4, 5, 1, 3, 5, 3, 1, 2, 4, 5, 2, 2, 3, 5, 1, 2, 3, 4, 4, 2, 3, 5, 1, 3, 3, 3, 4, 5, 4, 1, 2, 3, 4, 5, 2, 3, 4, 5, 1, 5, 1, 3, 5, 5, 1, 3, 4, 1, 2, 3, 2, 3, 4, 5, 3, 5, 1, 2, 1, 2, 3, 4, 5, 1, 2, 3, 4, 5, 1, 2, 3, 4, 5, 1, 2, 3, 4, 5, 3, 4, 5, 1, 2, 3, 4, 5, 1, 2, 3, 4, 5, 5, 5, 2, 3, 4, 1, 2, 3, 4, 5, 1, 2, 3, 5, 1, 2, 5, 1, 2, 3, 4, 5, 5, 1, 2, 3, 4, 5, 5, 1, 2, 3, 4, 5, 1, 2, 3, 4, 5, 3, 4, 1, 2, 5, 3, 1, 2, 3, 4, 1, 2, 3, 4, 2, 1, 3, 4, 4, 1, 1, 2, 3, 4, 5, 2, 4, 5, 3, 4, 5, 3, 3, 4, 3, 1, 2, 3, 4, 5, 2, 3, 4, 5, 3, 1, 2, 3, 4, 5, 1, 2, 3, 4, 5, 1, 2, 3, 4, 5, 1, 2, 3, 4, 5, 1, 4, 1, 1, 2, 3, 4, 5, 1, 2, 3, 4, 5, 1, 2, 3, 1, 2, 3, 4, 5, 1, 2, 3, 4, 5, 5, 2, 4, 5, 1, 3, 4, 1, 2, 3, 4, 5, 1, 2, 3, 4, 5, 1, 2, 3, 4, 5, 1, 2, 3, 4, 1, 2, 3, 4, 5, 1, 1, 1, 2, 3, 4, 1, 2, 3, 4, 5, 1, 2, 3, 4, 5, 1, 3, 4, 5, 1, 1, 3, 3, 2, 5, 4, 1, 2, 3, 4, 5, 2, 3, 4, 5, 1, 2, 3, 4, 5, 1, 2, 3, 4, 5, 1, 2, 3, 5, 1, 2, 3, 4, 5, 3, 1, 2, 3, 4, 5, 5, 1, 2, 3, 4, 5, 1, 3, 1, 2, 3, 4, 5, 1, 1, 2, 4, 5, 1, 2, 3, 4, 5, 1, 2, 1, 2, 3, 5, 2, 3, 5, 2, 5, 5, 2, 3, 1, 2, 2, 3, 4, 5, 2, 1, 4, 4, 3, 4, 5, 4, 1, 2, 3, 4, 5, 1, 2, 3, 4, 1, 2, 3, 5, 5, 5, 1, 2, 3, 4, 5, 1, 2, 3, 4, 2, 5, 5, 3, 4, 1, 3, 4, 1, 2, 3, 4, 5, 3, 1, 2, 3, 4, 5, 1, 2, 3, 4, 5, 1, 3, 4, 1, 3, 4, 5, 1, 2, 3, 4, 5, 1, 1, 2, 3, 4, 1, 1, 3, 4, 5, 5, 2, 1, 3, 1, 3, 1, 2, 4, 1, 3, 4, 5, 1, 1, 2, 3, 4, 5, 2, 3, 5, 2, 3, 4, 5, 4, 2, 5, 3, 3, 1, 2, 3, 4, 5, 1, 2, 4, 5, 2, 4, 5, 3, 5, 1, 2, 3, 4, 5, 1, 3, 4, 5, 1, 2, 3, 4, 5, 1, 2, 3, 4, 5, 2, 3, 5, 1, 2, 3, 4, 5, 1, 3, 4, 5, 1, 3, 4, 3, 4, 5, 1, 2, 3, 4, 5, 1, 2, 3, 4, 5, 2, 3, 4, 1, 2, 4, 1, 2, 3, 4, 5, 5, 3, 4, 5, 3, 3, 4, 2, 4, 1, 2, 3, 4, 5, 1, 2, 3, 4, 5, 1, 3, 1, 2, 3, 4, 5, 1, 2, 3, 4, 5, 4, 1, 4, 1, 5, 1, 2, 3, 5, 2, 3, 4, 1, 3, 5, 4, 5, 1, 2, 3, 4, 5, 1, 2, 3, 4, 5, 1, 3, 4, 3, 5, 2, 3, 4, 5, 2, 3, 1, 3, 4, 5, 2, 3, 4, 1, 1, 1, 2, 3, 4, 5, 1, 2, 3, 4, 5, 5, 1, 2, 3, 4, 5, 1, 2, 5, 1, 2, 3, 5, 1, 3, 4, 5, 1, 3, 4, 3, 4, 5, 1, 3, 4, 5, 1, 2, 3, 4, 5, 1, 2, 3, 4, 5, 1, 2, 3, 4, 5, 1, 2, 3, 4, 5, 5, 5, 2, 5, 1, 2, 3, 4, 5, 1, 2, 3, 4, 5, 1, 2, 3, 4, 5, 1, 2, 3, 4, 5, 1, 2, 3, 4, 5, 2, 3, 4, 5, 1, 2, 3, 4, 5, 4, 3, 5, 1, 2, 3, 4, 5, 1, 2, 3, 4, 5, 5, 5], \"Freq\": [0.22408903036003197, 0.06758240598159694, 0.2774435613981348, 0.43039321704069633, 0.19945574439005473, 0.18570017581143025, 0.1306779014969324, 0.385155920201485, 0.10316676433968347, 0.23720126996808896, 0.09488050798723559, 0.6641635559106491, 0.015813417997872597, 0.3552990414296168, 0.00772389220499167, 0.10813449086988337, 0.4711574245044919, 0.06179113763993336, 0.3302983329600081, 0.0347682455747377, 0.08692061393684423, 0.45198719247159, 0.09561267533052867, 0.9620930089315155, 0.9283058387504101, 0.9488963972162585, 0.03162987990720861, 0.59375419972445, 0.17508136658541476, 0.19791806657481667, 0.030448933319202565, 0.16174157808429476, 0.505442431513421, 0.3234831561685895, 0.9065922733283518, 0.06973786717910399, 0.9012434175639412, 0.08070836575199473, 0.9745928108630906, 0.04548819986484073, 0.037906833220700605, 0.7088577812271013, 0.06823229979726109, 0.1440459662386623, 0.6483557549842268, 0.09605270444210769, 0.22812517305000574, 0.02401317611052692, 0.9160592394803238, 0.9306426499058781, 0.4105713540711531, 0.04105713540711531, 0.34214279505929424, 0.15054282982608946, 0.05474284720948708, 0.05486945098701985, 0.06096605665224428, 0.15241514163061068, 0.04267623965657099, 0.6889164401703604, 0.8862794433564442, 0.05908529622376295, 0.8118363290879393, 0.12489789678275989, 0.062448948391379946, 0.9574339963775716, 0.9137608815866503, 0.1253731283892799, 0.8776118987249593, 0.722560631181688, 0.07474765150155392, 0.12457941916925655, 0.07474765150155392, 0.040513575275047585, 0.0486162903300571, 0.1539515860451808, 0.02430814516502855, 0.7292443549508565, 0.9702234017899567, 0.00696094540643428, 0.0696094540643428, 0.09397276298686279, 0.0870118175804285, 0.7413406857852508, 0.9939118827614547, 0.9573586344847593, 0.9755864815366402, 0.9821585617727788, 0.981339888589602, 0.07216283393202846, 0.2453536353688968, 0.31751646930092525, 0.04329770035921708, 0.31751646930092525, 0.9747882738133209, 0.15116462243102058, 0.5614685976009335, 0.28073429880046674, 0.20095525150456284, 0.7855523467905638, 0.03109015172210085, 0.9327045516630256, 0.22375348686224159, 0.1893298734988198, 0.2926007135890852, 0.26965163801347064, 0.028686344469518153, 0.830714086366651, 0.023734688181904315, 0.11867344090952156, 0.9448636156175884, 0.025536854476151036, 0.025536854476151036, 0.977273257076272, 0.06959866647203262, 0.9047826641364242, 0.061434392044394034, 0.030717196022197017, 0.9215158806659105, 0.02416124904414272, 0.03624187356621408, 0.9302080881994947, 0.8589587148244433, 0.04090279594402111, 0.08180559188804222, 0.11978511951098036, 0.5510115497505097, 0.16769916731537252, 0.11978511951098036, 0.047914047804392144, 0.05700423419850735, 0.04750352849875613, 0.20901552539452695, 0.5747926948349491, 0.10925811554713909, 0.006160717440429818, 0.024642869761719272, 0.09857147904687709, 0.11705363136816654, 0.7516075277324378, 0.962150439778007, 0.9193263108794557, 0.04838559530944504, 0.22657738267842562, 0.6930602293693019, 0.06664040667012518, 0.97474940596788, 0.9114126404446876, 0.07325559222162945, 0.7691837183271091, 0.1831389805540736, 0.9401627544481587, 0.02938008607650496, 0.037345142347489445, 0.037345142347489445, 0.387455851855203, 0.387455851855203, 0.14938056938995778, 0.8741698108715059, 0.024624501714690307, 0.024624501714690307, 0.049249003429380614, 0.036936752572035464, 0.965496267487725, 0.7972189466071917, 0.0478331367964315, 0.15944378932143835, 0.8259548469435195, 0.058996774781679966, 0.058996774781679966, 0.00539359817286403, 0.07551037442009642, 0.3020414976803857, 0.03775518721004821, 0.5771150044964513, 0.9211891257124101, 0.06141260838082734, 0.733581732030282, 0.2626403731960269, 0.9599006711257451, 0.9607281509163443, 0.013531382407272455, 0.013531382407272455, 0.987411835929946, 0.05035913480371851, 0.0719416211481693, 0.05035913480371851, 0.6978337251372422, 0.12949491806670474, 0.9160575506795785, 0.9826406045440225, 0.8786160991038157, 0.05491350619398848, 0.09962551356095299, 0.896629622048577, 0.9122347278314015, 0.05449960123313396, 0.8447438191135763, 0.08174940184970093, 0.9573609043627862, 0.14929076315212353, 0.8360282736518917, 0.013021326619771687, 0.9505568432433331, 0.026042653239543374, 0.013021326619771687, 0.5078336356438322, 0.20657639416020296, 0.043036748783375614, 0.22379109367355318, 0.008607349756675122, 0.1516167488031138, 0.06202503360127383, 0.668492028813729, 0.03445835200070768, 0.08959171520183998, 0.057737672542692554, 0.30793425356102694, 0.6158685071220539, 0.019245890847564184, 0.05589172469103307, 0.027945862345516534, 0.0838375870365496, 0.8011147205714739, 0.027945862345516534, 0.9891779340761275, 0.8168020509460122, 0.08168020509460122, 0.9624113010504419, 0.033186596587946274, 0.9756134622173158, 0.9819185821556574, 0.018811677810683793, 0.6019736899418814, 0.2821751671602569, 0.07524671124273517, 0.03762335562136759, 0.068505449371065, 0.8391917547955462, 0.08563181171383125, 0.9747515357048732, 0.07453740010835247, 0.8944488013002297, 0.12222484470374989, 0.09249447707310803, 0.30391042466878354, 0.06606748362364859, 0.41622514682898615, 0.9874123407680246, 0.39971220784720435, 0.3172319109898447, 0.28550871989086024, 0.24066260146443627, 0.5749162146094866, 0.14707158978382218, 0.04011043357740605, 0.15159269266677383, 0.7579634633338691, 0.10106179511118256, 0.8444107000190919, 0.10052508333560618, 0.04021003333424247, 0.966613124274255, 0.6039040514527301, 0.014972827721968514, 0.2146105306815487, 0.16470110494165366, 0.10013157873264773, 0.07152255623760552, 0.829661652356224, 0.9266064975965479, 0.029890532180533804, 0.029890532180533804, 0.10459184521970566, 0.8367347617576453, 0.034863948406568555, 0.9722181875999832, 0.031532282161055, 0.031532282161055, 0.8618823790688366, 0.010510760720351666, 0.06306456432211, 0.01904400769031581, 0.9141123691351589, 0.05713202307094743, 0.9874126248402284, 0.06052180240296019, 0.6657398264325621, 0.21182630841036068, 0.06052180240296019, 0.946748648936645, 0.8299805910233965, 0.04611003283463314, 0.1383300985038994, 0.1715304989078623, 0.16200102674631436, 0.028588416484643712, 0.6289451626621617, 0.9399203291395253, 0.050879465991413325, 0.10175893198282665, 0.8445991354574611, 0.9306695798280546, 0.9908580398400196, 0.9642706612994058, 0.1269820503377702, 0.7872887120941753, 0.07618923020266212, 0.9345140021727697, 0.3420051478672023, 0.0087693627658257, 0.1227710787215598, 0.5173924031837163, 0.0087693627658257, 0.9391401330433999, 0.03165640897899101, 0.010552136326330336, 0.021104272652660672, 0.9191477783143858, 0.06338950195271625, 0.8905969557730229, 0.05808241015911019, 0.03872160677274013, 0.9721261924237393, 0.9294826207007734, 0.036096412454398964, 0.036096412454398964, 0.09116223548619085, 0.8508475312044479, 0.060774823657460564, 0.8881285286093593, 0.011042851835425993, 0.08834281468340795, 0.9055138505049315, 0.03205751849030222, 0.9296680362187645, 0.08867425313104885, 0.8867425313104885, 0.17418369166433803, 0.02488338452347686, 0.3085539680911131, 0.47278430594606036, 0.01990670761878149, 0.036173632712411224, 0.09244372804282867, 0.15675240842044863, 0.12861736075523988, 0.586816708445782, 0.010614751086333975, 0.037151628802168914, 0.2176023972698465, 0.10084013532017277, 0.6315776896368716, 0.06828206171958098, 0.12680954319350754, 0.23410992589570623, 0.06503053497102951, 0.5104896995225816, 0.04079548892586337, 0.06799248154310562, 0.8907015082146836, 0.3038382702912332, 0.007234244530743648, 0.4232033050485034, 0.2423471917799122, 0.02531985585760277, 0.10377040485577904, 0.0642388220535775, 0.4941447850275193, 0.05929737420330231, 0.281662527465686, 0.9831735566757647, 0.9702211062951165, 0.6666765919777089, 0.07843254023267164, 0.19608135058167908, 0.10380864052561226, 0.2224470868405977, 0.11122354342029885, 0.02965961157874636, 0.5338730084174345, 0.1679377917955147, 0.6237689409547689, 0.07197333934093487, 0.14394667868186975, 0.13875967023128272, 0.8325580213876963, 0.9658369429570449, 0.13272639562988786, 0.14187994015608704, 0.2746063357859749, 0.20595475183948117, 0.24714570220737742, 0.9658472028672104, 0.03012988225657001, 0.12428576430835128, 0.1619481171290638, 0.20714294051391882, 0.47454564554097767, 0.9658538441691858, 0.0452663058751711, 0.015088768625057035, 0.015088768625057035, 0.7242608940027376, 0.19615399212574144, 0.021674663395348962, 0.24275623002790836, 0.3294548836093042, 0.1690623744837219, 0.2340863646697688, 0.04015484161882335, 0.923561357232937, 0.6934464379453901, 0.1475417953075298, 0.1327876157767768, 0.9599952104138927, 0.8314022084171591, 0.026819426077972875, 0.08045827823391861, 0.05363885215594575, 0.13472653117214586, 0.12436295185121156, 0.06218147592560578, 0.6736326558607293, 0.946767040532074, 0.8261616806499648, 0.027538722688332157, 0.11015489075332863, 0.9137687747034139, 0.8972894580265902, 0.5591179206912779, 0.016690087184814264, 0.125175653886107, 0.2086260898101783, 0.08345043592407132, 0.9588482627906864, 0.945905605656833, 0.03261743467782183, 0.9821973425225575, 0.9392936099048483, 0.0417463826624377, 0.9796786881751061, 0.8472941459860402, 0.1450323312949078, 0.987045704931644, 0.01104578373697078, 0.01104578373697078, 0.0552289186848539, 0.0552289186848539, 0.8615711314837208, 0.0313144923185746, 0.22963961033621372, 0.052190820530957666, 0.6889188310086412, 0.98870896186913, 0.024440308796686287, 0.03360542459544365, 0.3055038599585786, 0.23523797216810552, 0.400210056545738, 0.037013939073242484, 0.05552090860986372, 0.178900705520672, 0.06168989845540414, 0.6600819134728243, 0.23844912946029684, 0.24590066475593111, 0.29060987652973674, 0.06706381766070849, 0.1564822412083198, 0.2508749703764078, 0.35839281482343976, 0.11946427160781325, 0.2389285432156265, 0.02389285432156265, 0.8623041945818807, 0.061593156755848616, 0.9519095569253835, 0.04614969581027731, 0.020977134459216958, 0.1971850639166394, 0.012586280675530174, 0.7258088522889067, 0.5329819583762645, 0.0077243762083516595, 0.1931094052087915, 0.2471800386672531, 0.015448752416703319, 0.8787996460696906, 0.06759997277459158, 0.03379998638729579, 0.06150461621036471, 0.015376154052591177, 0.10763307836813825, 0.130697309447025, 0.6842388553403074, 0.011670097136648728, 0.023340194273297456, 0.03501029140994619, 0.023340194273297456, 0.9219376737952495, 0.9658503243857594, 0.8221345221720012, 0.03425560509050005, 0.10276681527150015, 0.02979677445424684, 0.11918709781698736, 0.8641064591731583, 0.0035480660783142317, 0.04257679293977078, 0.3406143435181662, 0.04612485901808501, 0.567690572530277, 0.07070680487530966, 0.2474738170635838, 0.05892233739609138, 0.5892233739609137, 0.03535340243765483, 0.1357674555903188, 0.08354920344019619, 0.11488015473026976, 0.6370626762314959, 0.03133095129007357, 0.1371168341813294, 0.626819813400363, 0.09794059584380671, 0.1371168341813294, 0.43832671361004477, 0.08643061958507925, 0.33749099076078565, 0.08231487579531357, 0.05350466926695382, 0.9666252544617319, 0.9724095625978196, 0.750496533373476, 0.01974990877298621, 0.029624863159479313, 0.187624133343369, 0.03539589424198089, 0.07787096733235796, 0.7503929579299948, 0.10618768272594267, 0.028316715393584713, 0.0363311451437074, 0.22836719804616082, 0.3736917786209904, 0.0622819631034984, 0.3010294883335756, 0.14659415780881357, 0.1928870497484389, 0.6481004871547548, 0.007715481989937556, 0.9304370872307267, 0.8709680141108305, 0.11612906854811073, 0.9756238625005695, 0.02052596956396011, 0.9647205695061252, 0.9792419707884445, 0.005163816642243211, 0.03614671649570248, 0.6532228052437662, 0.21171648233197166, 0.0955306078814994, 0.5805193216579997, 0.21018803025548263, 0.016681589702816083, 0.19350644055266655, 0.1427505830822002, 0.11420046646576017, 0.2819324015873454, 0.042825174924660064, 0.4175454555154356, 0.2733614247863061, 0.030373491642922898, 0.4161168355080437, 0.10630722075023014, 0.1792036006932451, 0.023389144355656952, 0.32744802097919734, 0.36253173751268275, 0.28066973226788344, 0.12552267568903025, 0.023244939942413008, 0.43700487091736456, 0.3440251111477125, 0.07438380781572163, 0.9905459674057534, 0.020251208603275585, 0.025314010754094483, 0.25820290969176374, 0.01518840645245669, 0.6834782903605511, 0.9550476374207097, 0.052861023963458084, 0.026430511981729042, 0.08589916394061939, 0.15858307189037424, 0.6739780555340905, 0.03810157080881402, 0.9652397938232884, 0.43821143452613337, 0.1387669542666089, 0.22640924117183558, 0.1460704781753778, 0.043821143452613336, 0.9425831204148529, 0.10064636638835876, 0.5787166067330629, 0.2516159159708969, 0.07548477479126907, 0.003941607197705445, 0.035474464779349, 0.18919714548986133, 0.07489053675640345, 0.6976644739938637, 0.9423348015695737, 0.9467676273432241, 0.04811094695082283, 0.7697751512131653, 0.1443328408524685, 0.04811094695082283, 0.8256217586581122, 0.05897298276129373, 0.05897298276129373, 0.8857036948075191, 0.0885703694807519, 0.9721201753692875, 0.8262317467778868, 0.11803310668255525, 0.030482988463643303, 0.9449726423729424, 0.07369536807728255, 0.7185298387535048, 0.07369536807728255, 0.1381788151449048, 0.8856519193197833, 0.8089833513333504, 0.19034902384314129, 0.9791579929852511, 0.9108428958464772, 0.009018246493529477, 0.07214597194823581, 0.9399207709783527, 0.03384657857203799, 0.03384657857203799, 0.5565881809624025, 0.0752146190489733, 0.29709774524344457, 0.25792321380244004, 0.2907498046500233, 0.09847977254274984, 0.3517134733669637, 0.7785422897842195, 0.037977672672400944, 0.037977672672400944, 0.15191069068960378, 0.9878508223542442, 0.965850586114801, 0.2508500483429751, 0.10034001933719004, 0.11706335589338838, 0.493338428407851, 0.03344667311239668, 0.6456928956726415, 0.02347974166082333, 0.1291385791345283, 0.18783793328658663, 0.825382460809088, 0.15721570682077868, 0.9845195770441301, 0.043487542070558126, 0.9349821545169996, 0.011970311914179202, 0.9097437054776194, 0.07182187148507521, 0.13089697037323117, 0.6806642459408021, 0.013089697037323118, 0.17016606148520053, 0.026179394074646235, 0.988980133009821, 0.010124297077367608, 0.020248594154735216, 0.7255746238780119, 0.22948406708699912, 0.016873828462279347, 0.1529424722654638, 0.1529424722654638, 0.08235363891217282, 0.5882402779440915, 0.011764805558881831, 0.3232665641426547, 0.40947098124736264, 0.26723369302459454, 0.7114009681872556, 0.01046177894393023, 0.2615444735982558, 0.02092355788786046, 0.17847143597670198, 0.024787699441208608, 0.5651595472595563, 0.22308929497087748, 0.009915079776483444, 0.9474614233045695, 0.7910968314378158, 0.06980266159745434, 0.09307021546327246, 0.04653510773163623, 0.9075233207996134, 0.059161810040962694, 0.8400977025816703, 0.02366472401638508, 0.08282653405734777, 0.9747700560154946, 0.9310529986781735, 0.9475798092025761, 0.9854349130779643, 0.8246184527540491, 0.16492369055080983, 0.9423166029351304, 0.05811621668743134, 0.8717432503114702, 0.8254124812486555, 0.03487658371473192, 0.12788080695401705, 0.011625527904910641, 0.9474618567532226, 0.10772127195337136, 0.1358224733325117, 0.24822727884907314, 0.04683533563190059, 0.4589862891926258, 0.8208980128584226, 0.06840816773820188, 0.10261225160730282, 0.10694655505964434, 0.05833448457798782, 0.03888965638532521, 0.7972379558991669, 0.949396309899525, 0.04890697040346495, 0.9536859228675665, 0.9836894865084246, 0.9742353650323579, 0.006305289046114901, 0.0012610578092229802, 0.0693581795072639, 0.37201205372077917, 0.5510822626304424, 0.11037346688737999, 0.008490266683644615, 0.8490266683644614, 0.03396106673457846, 0.7962012311760356, 0.05308008207840237, 0.10616016415680474, 0.026300546033775605, 0.9468196572159218, 0.023227778208626843, 0.058069445521567106, 0.5052041760376338, 0.20905000387764158, 0.20324305932548486, 0.0217029981461463, 0.8030109314074132, 0.15192098702302412, 0.03255449721921945, 0.6628332032388404, 0.1325666406477681, 0.012051512786160736, 0.15666966622008957, 0.04820605114464294, 0.14380677602071892, 0.06536671637305407, 0.278897989858364, 0.04357781091536937, 0.4662825767944523, 0.013329920835348265, 0.13329920835348263, 0.853114933462289, 0.38347489354334896, 0.014562337729494265, 0.40289134384934133, 0.165039827600935, 0.033978788035486616, 0.7928934553046256, 0.1334573142591944, 0.03140172100216339, 0.03140172100216339, 0.08034727501514166, 0.02678242500504722, 0.8838200251665583, 0.9621757303398302, 0.016589236729997073, 0.9747548801166319, 0.17497594559841706, 0.26246391839762556, 0.1487295537586545, 0.02624639183976256, 0.39369587759643837, 0.10551098045588733, 0.5978955559166949, 0.07034065363725822, 0.10551098045588733, 0.12309614386520189, 0.753197214859207, 0.13948096571466798, 0.08368857942880079, 0.8202462568033623, 0.09537747172132119, 0.07630197737705695, 0.2708173282408949, 0.09502362394417364, 0.1282818923246344, 0.24706142225485148, 0.2613149658464775, 0.9525463292568531, 0.22613546162796, 0.017395035509843077, 0.7479865269232524, 0.9909922699573565, 0.9333593232108356, 0.047864580677478744, 0.9306792485254702, 0.9399202461943207, 0.4275856152345351, 0.008183456750900193, 0.27823752953060654, 0.2802833937183316, 0.006137592563175144, 0.5226384708919124, 0.002986505547953785, 0.4061647545217148, 0.056743605411121924, 0.008959516643861356, 0.8081472750551831, 0.18520041720014613, 0.0880996254331607, 0.06852193089245832, 0.24472118175877972, 0.09299404906833629, 0.49923121078791066, 0.102950059040425, 0.0514750295202125, 0.02573751476010625, 0.6305691116226031, 0.1801626033207437, 0.9495182463039171, 0.06528905426553495, 0.9140467597174893, 0.06697207894659081, 0.9152850789367412, 0.013366866002750723, 0.026733732005501446, 0.868846290178797, 0.09356806201925506, 0.027858493074230436, 0.8775425318382588, 0.08357547922269132, 0.073370863785386, 0.0550281478390395, 0.880450365424632, 0.9698146258652893, 0.9891789973247916, 0.4614193961102519, 0.006991202971367453, 0.23770090102649338, 0.27265691588333063, 0.02796481188546981, 0.13723919325282236, 0.05575342225895908, 0.3087881848188503, 0.10292939493961675, 0.3945626806018642, 0.5145420635213716, 0.005654308390344742, 0.4806162131793031, 0.9711963791947217, 0.02856459938808005, 0.03482220355187326, 0.03482220355187326, 0.03482220355187326, 0.9053772923487048, 0.8490898737794743, 0.15920435133365143, 0.034101226709178194, 0.10230368012753457, 0.6990751475381529, 0.15345552019130188, 0.03481985805779151, 0.03481985805779151, 0.9053163095025794, 0.9666263270401996, 0.9774169817680735, 0.014266649160695853, 0.014266649160695853, 0.06419992122313134, 0.042799947482087555, 0.8631322742220991, 0.14856549459406684, 0.08432095639122712, 0.22485588370993898, 0.16462662914477677, 0.3774366619416833, 0.979351140759281, 0.025113194381116647, 0.14440086769142071, 0.5650468735751246, 0.11928767331030407, 0.14440086769142071, 0.850529846788585, 0.06542537282989115, 0.06542537282989115, 0.9010465504418319, 0.029066017756188126, 0.029066017756188126, 0.05813203551237625, 0.048469821492604884, 0.024234910746302442, 0.7997520546279806, 0.12117455373151222, 0.9423548841988292, 0.20825998189234543, 0.7809749320962953, 0.08873711763549062, 0.06338365545392187, 0.8493409830825531, 0.4258536363901181, 0.554600084601084, 0.016505954898841785, 0.003301190979768357, 0.0320895409525931, 0.08022385238148276, 0.6578355895281587, 0.18451486047741034, 0.04011192619074138, 0.01209880682149394, 0.018148210232240912, 0.5746933240209622, 0.03024701705373485, 0.36901360805556516, 0.5340538906172826, 0.12173287212599823, 0.1492209400254172, 0.09031793738380514, 0.10602540475490169, 0.5063368537301707, 0.1565990269268569, 0.12527922154148552, 0.020879870256914252, 0.18791883231222828, 0.9771918917645476, 0.9747496637195828, 0.06294379552611941, 0.923175667716418, 0.060925880282619395, 0.5331014524729197, 0.13708323063589364, 0.07615735035327424, 0.19800911091851303, 0.027284470601460928, 0.013642235300730464, 0.7776074121416365, 0.06821117650365233, 0.10913788240584371, 0.4200848839709157, 0.19150928533968217, 0.030888594409626154, 0.06177718881925231, 0.29653050633241107, 0.0510048761974676, 0.14937142314972654, 0.2623107918726905, 0.06557769796817263, 0.47361670754791346, 0.015839817566871556, 0.005279939188957185, 0.5279939188957186, 0.11615866215705807, 0.33263616890430264, 0.014562654593665651, 0.10193858215565955, 0.021843981890498475, 0.8591966210262735, 0.03751672663208703, 0.03751672663208703, 0.7409553509837189, 0.10317099823823933, 0.08441263492219582, 0.9284006370344193, 0.08997688207193857, 0.8997688207193857, 0.13926082601419498, 0.18181274507408787, 0.2707849394720458, 0.18954945763043204, 0.21662795157763662, 0.027335657379875866, 0.05467131475975173, 0.6872965284083075, 0.042956033025519216, 0.18744450774772023, 0.9878408091112766, 0.9891751972919731], \"Term\": [\"000\", \"000\", \"000\", \"000\", \"10\", \"10\", \"10\", \"10\", \"10\", \"1959\", \"1959\", \"1959\", \"1959\", \"1960\", \"1960\", \"1960\", \"1960\", \"1960\", \"1961\", \"1961\", \"1961\", \"1961\", \"1961\", \"academic\", \"acre\", \"acres\", \"acres\", \"act\", \"act\", \"act\", \"act\", \"add\", \"add\", \"add\", \"advantages\", \"advantages\", \"af\", \"af\", \"africa\", \"american\", \"american\", \"american\", \"american\", \"american\", \"amount\", \"amount\", \"amount\", \"amount\", \"ample\", \"appropriated\", \"area\", \"area\", \"area\", \"area\", \"area\", \"around\", \"around\", \"around\", \"around\", \"around\", \"artist\", \"artist\", \"artists\", \"artists\", \"artists\", \"atlanta\", \"attorneys\", \"automobile\", \"automobile\", \"available\", \"available\", \"available\", \"available\", \"away\", \"away\", \"away\", \"away\", \"away\", \"baby\", \"back\", \"back\", \"back\", \"back\", \"back\", \"ball\", \"bankers\", \"baseball\", \"berlin\", \"beside\", \"best\", \"best\", \"best\", \"best\", \"best\", \"bid\", \"bill\", \"bill\", \"bill\", \"billion\", \"billion\", \"birds\", \"birds\", \"board\", \"board\", \"board\", \"board\", \"board\", \"boat\", \"boat\", \"boat\", \"boats\", \"boats\", \"boats\", \"bombs\", \"bond\", \"bond\", \"bonds\", \"bonds\", \"bonds\", \"boy\", \"boy\", \"boy\", \"builder\", \"builder\", \"builder\", \"built\", \"built\", \"built\", \"built\", \"built\", \"business\", \"business\", \"business\", \"business\", \"business\", \"came\", \"came\", \"came\", \"came\", \"came\", \"castro\", \"cattle\", \"cattle\", \"cent\", \"cent\", \"cent\", \"charlie\", \"chef\", \"chemical\", \"chemical\", \"chemical\", \"china\", \"china\", \"city\", \"city\", \"city\", \"city\", \"city\", \"clay\", \"clay\", \"clay\", \"clay\", \"clay\", \"clothes\", \"college\", \"college\", \"college\", \"column\", \"column\", \"column\", \"come\", \"come\", \"come\", \"come\", \"come\", \"commissioner\", \"commissioner\", \"committee\", \"committee\", \"communism\", \"communist\", \"communist\", \"communist\", \"communists\", \"company\", \"company\", \"company\", \"company\", \"company\", \"comprehensive\", \"congo\", \"conspiracy\", \"conspiracy\", \"consumer\", \"consumer\", \"cooled\", \"cooling\", \"cooling\", \"cooling\", \"corp\", \"corporation\", \"corporation\", \"corps\", \"corps\", \"corps\", \"corps\", \"cost\", \"cost\", \"cost\", \"cost\", \"cost\", \"country\", \"country\", \"country\", \"country\", \"country\", \"county\", \"county\", \"county\", \"county\", \"court\", \"court\", \"court\", \"court\", \"court\", \"cousin\", \"cream\", \"cream\", \"crisis\", \"crisis\", \"cuba\", \"cuban\", \"daily\", \"daily\", \"daily\", \"daily\", \"daily\", \"dallas\", \"dallas\", \"dallas\", \"dave\", \"davis\", \"davis\", \"day\", \"day\", \"day\", \"day\", \"day\", \"democrats\", \"department\", \"department\", \"department\", \"design\", \"design\", \"design\", \"design\", \"designs\", \"designs\", \"designs\", \"determine\", \"determine\", \"determine\", \"determining\", \"development\", \"development\", \"development\", \"development\", \"door\", \"door\", \"door\", \"drill\", \"drill\", \"drill\", \"driver\", \"driver\", \"driver\", \"drove\", \"east\", \"east\", \"east\", \"east\", \"east\", \"editor\", \"editor\", \"editor\", \"editorial\", \"engineer\", \"engineer\", \"engineer\", \"engineer\", \"entertain\", \"entrance\", \"entrance\", \"entrance\", \"equipment\", \"equipment\", \"equipment\", \"equipment\", \"exempt\", \"eyes\", \"eyes\", \"eyes\", \"facility\", \"faculty\", \"fallout\", \"farm\", \"farm\", \"farm\", \"farmers\", \"federal\", \"federal\", \"federal\", \"federal\", \"federal\", \"feed\", \"feed\", \"feed\", \"feed\", \"fig\", \"fig\", \"file\", \"file\", \"file\", \"fingers\", \"fiscal\", \"fiscal\", \"fiscal\", \"foundation\", \"foundation\", \"foundation\", \"fruit\", \"game\", \"game\", \"game\", \"games\", \"games\", \"gate\", \"gate\", \"general\", \"general\", \"general\", \"general\", \"general\", \"get\", \"get\", \"get\", \"get\", \"get\", \"go\", \"go\", \"go\", \"go\", \"go\", \"good\", \"good\", \"good\", \"good\", \"good\", \"got\", \"got\", \"got\", \"government\", \"government\", \"government\", \"government\", \"government\", \"great\", \"great\", \"great\", \"great\", \"great\", \"guy\", \"hair\", \"handling\", \"handling\", \"handling\", \"head\", \"head\", \"head\", \"head\", \"head\", \"heat\", \"heat\", \"heat\", \"heat\", \"heating\", \"heating\", \"hell\", \"high\", \"high\", \"high\", \"high\", \"high\", \"hits\", \"home\", \"home\", \"home\", \"home\", \"home\", \"horses\", \"hospital\", \"hospital\", \"hospital\", \"hospital\", \"hospital\", \"house\", \"house\", \"house\", \"house\", \"house\", \"hughes\", \"hughes\", \"inch\", \"inch\", \"inch\", \"independence\", \"india\", \"india\", \"india\", \"india\", \"industry\", \"industry\", \"industry\", \"industry\", \"installation\", \"interference\", \"interference\", \"interference\", \"inventories\", \"involves\", \"island\", \"island\", \"island\", \"island\", \"island\", \"jane\", \"jones\", \"jones\", \"junior\", \"jury\", \"jury\", \"katanga\", \"kennedy\", \"kennedy\", \"khrushchev\", \"knew\", \"knew\", \"knew\", \"knew\", \"knew\", \"know\", \"know\", \"know\", \"know\", \"laos\", \"last\", \"last\", \"last\", \"last\", \"last\", \"left\", \"left\", \"left\", \"left\", \"left\", \"less\", \"less\", \"less\", \"less\", \"less\", \"level\", \"level\", \"level\", \"level\", \"level\", \"lever\", \"lever\", \"limitations\", \"little\", \"little\", \"little\", \"little\", \"little\", \"local\", \"local\", \"local\", \"local\", \"local\", \"location\", \"location\", \"location\", \"look\", \"look\", \"look\", \"look\", \"look\", \"looked\", \"looked\", \"looked\", \"looked\", \"looked\", \"luck\", \"lumber\", \"lumber\", \"lumber\", \"machinery\", \"machinery\", \"machinery\", \"man\", \"man\", \"man\", \"man\", \"man\", \"management\", \"management\", \"management\", \"management\", \"management\", \"market\", \"market\", \"market\", \"market\", \"market\", \"materials\", \"materials\", \"materials\", \"materials\", \"may\", \"may\", \"may\", \"may\", \"may\", \"measurement\", \"measurements\", \"medical\", \"medical\", \"medical\", \"medical\", \"members\", \"members\", \"members\", \"members\", \"members\", \"men\", \"men\", \"men\", \"men\", \"men\", \"million\", \"million\", \"million\", \"million\", \"minimize\", \"minimum\", \"minimum\", \"moscow\", \"mother\", \"mother\", \"motors\", \"mr\", \"mr\", \"mr\", \"mr\", \"mr\", \"mrs\", \"mrs\", \"mrs\", \"mrs\", \"much\", \"much\", \"much\", \"much\", \"much\", \"must\", \"must\", \"must\", \"must\", \"must\", \"name\", \"name\", \"name\", \"name\", \"national\", \"national\", \"national\", \"national\", \"national\", \"nations\", \"never\", \"never\", \"never\", \"never\", \"never\", \"nice\", \"night\", \"night\", \"night\", \"night\", \"night\", \"nuclear\", \"nuclear\", \"number\", \"number\", \"number\", \"number\", \"number\", \"objectives\", \"oil\", \"oil\", \"oil\", \"oil\", \"old\", \"old\", \"old\", \"old\", \"old\", \"operational\", \"oriental\", \"outdoor\", \"outdoor\", \"outdoor\", \"outdoor\", \"painted\", \"painted\", \"painted\", \"painter\", \"painter\", \"pair\", \"palace\", \"palace\", \"panels\", \"panels\", \"party\", \"party\", \"party\", \"party\", \"patterned\", \"payment\", \"payment\", \"payroll\", \"peace\", \"peace\", \"peace\", \"pension\", \"people\", \"people\", \"people\", \"people\", \"people\", \"per\", \"per\", \"per\", \"per\", \"pieces\", \"pieces\", \"pieces\", \"pieces\", \"pink\", \"pittsburgh\", \"plan\", \"plan\", \"plan\", \"plan\", \"plan\", \"planning\", \"planning\", \"planning\", \"planning\", \"plastic\", \"plastic\", \"player\", \"police\", \"police\", \"political\", \"political\", \"political\", \"pool\", \"pool\", \"pool\", \"pool\", \"pool\", \"premier\", \"president\", \"president\", \"president\", \"president\", \"president\", \"production\", \"production\", \"production\", \"production\", \"production\", \"program\", \"program\", \"program\", \"property\", \"property\", \"property\", \"property\", \"public\", \"public\", \"public\", \"public\", \"public\", \"puerto\", \"purposes\", \"purposes\", \"purposes\", \"purposes\", \"quantity\", \"question\", \"question\", \"question\", \"question\", \"rain\", \"rated\", \"ratio\", \"rayburn\", \"recreation\", \"recreation\", \"respectively\", \"retail\", \"retail\", \"rhode\", \"rhode\", \"rhode\", \"rhode\", \"rico\", \"right\", \"right\", \"right\", \"right\", \"right\", \"roof\", \"roof\", \"roof\", \"room\", \"room\", \"room\", \"room\", \"ruling\", \"runs\", \"runs\", \"russia\", \"russian\", \"said\", \"said\", \"said\", \"said\", \"said\", \"sales\", \"sales\", \"sales\", \"sales\", \"salt\", \"salt\", \"salt\", \"sat\", \"sat\", \"school\", \"school\", \"school\", \"school\", \"school\", \"schools\", \"schools\", \"schools\", \"schools\", \"section\", \"section\", \"section\", \"section\", \"section\", \"see\", \"see\", \"see\", \"see\", \"see\", \"seemed\", \"seemed\", \"seemed\", \"service\", \"service\", \"service\", \"service\", \"service\", \"shall\", \"shall\", \"shall\", \"shall\", \"shares\", \"shares\", \"shares\", \"shelter\", \"shelter\", \"shoes\", \"side\", \"side\", \"side\", \"side\", \"side\", \"sign\", \"sign\", \"sign\", \"sign\", \"sign\", \"signs\", \"signs\", \"signs\", \"site\", \"site\", \"site\", \"small\", \"small\", \"small\", \"small\", \"small\", \"smiled\", \"something\", \"something\", \"something\", \"soviet\", \"speaker\", \"speaker\", \"spice\", \"spokesman\", \"state\", \"state\", \"state\", \"state\", \"state\", \"states\", \"states\", \"states\", \"states\", \"states\", \"stations\", \"stations\", \"still\", \"still\", \"still\", \"still\", \"still\", \"stock\", \"stock\", \"stock\", \"stock\", \"stock\", \"stockholders\", \"stocks\", \"stocks\", \"straight\", \"straight\", \"student\", \"student\", \"student\", \"student\", \"students\", \"students\", \"students\", \"sun\", \"sun\", \"sun\", \"superintendent\", \"susan\", \"system\", \"system\", \"system\", \"system\", \"system\", \"take\", \"take\", \"take\", \"take\", \"take\", \"tax\", \"tax\", \"tax\", \"teachers\", \"teachers\", \"team\", \"team\", \"team\", \"team\", \"temple\", \"temple\", \"texas\", \"texas\", \"texas\", \"texas\", \"textile\", \"textile\", \"textile\", \"thereof\", \"thickness\", \"thought\", \"thought\", \"thought\", \"thought\", \"thought\", \"three\", \"three\", \"three\", \"three\", \"three\", \"tiny\", \"today\", \"today\", \"today\", \"today\", \"today\", \"tool\", \"tool\", \"tool\", \"towns\", \"towns\", \"towns\", \"towns\", \"traffic\", \"traffic\", \"traffic\", \"traffic\", \"transport\", \"trust\", \"trust\", \"turned\", \"turned\", \"turned\", \"united\", \"united\", \"united\", \"united\", \"university\", \"university\", \"university\", \"university\", \"university\", \"us\", \"us\", \"us\", \"us\", \"us\", \"use\", \"use\", \"use\", \"use\", \"use\", \"used\", \"used\", \"used\", \"used\", \"used\", \"vernon\", \"waited\", \"walked\", \"walked\", \"wall\", \"wall\", \"wall\", \"wall\", \"wall\", \"war\", \"war\", \"war\", \"war\", \"war\", \"water\", \"water\", \"water\", \"water\", \"water\", \"way\", \"way\", \"way\", \"way\", \"way\", \"week\", \"week\", \"week\", \"week\", \"week\", \"went\", \"went\", \"went\", \"went\", \"west\", \"west\", \"west\", \"west\", \"west\", \"wildlife\", \"woman\", \"woman\", \"work\", \"work\", \"work\", \"work\", \"work\", \"world\", \"world\", \"world\", \"world\", \"world\", \"yankees\", \"yards\"]}, \"R\": 30, \"lambda.step\": 0.01, \"plot.opts\": {\"xlab\": \"PC1\", \"ylab\": \"PC2\"}, \"topic.order\": [1, 2, 3, 4, 5]};\n",
       "\n",
       "function LDAvis_load_lib(url, callback){\n",
       "  var s = document.createElement('script');\n",
       "  s.src = url;\n",
       "  s.async = true;\n",
       "  s.onreadystatechange = s.onload = callback;\n",
       "  s.onerror = function(){console.warn(\"failed to load library \" + url);};\n",
       "  document.getElementsByTagName(\"head\")[0].appendChild(s);\n",
       "}\n",
       "\n",
       "if(typeof(LDAvis) !== \"undefined\"){\n",
       "   // already loaded: just create the visualization\n",
       "   !function(LDAvis){\n",
       "       new LDAvis(\"#\" + \"ldavis_el329216514038959688325183768\", ldavis_el329216514038959688325183768_data);\n",
       "   }(LDAvis);\n",
       "}else if(typeof define === \"function\" && define.amd){\n",
       "   // require.js is available: use it to load d3/LDAvis\n",
       "   require.config({paths: {d3: \"https://d3js.org/d3.v5\"}});\n",
       "   require([\"d3\"], function(d3){\n",
       "      window.d3 = d3;\n",
       "      LDAvis_load_lib(\"https://cdn.jsdelivr.net/gh/bmabey/pyLDAvis@3.4.0/pyLDAvis/js/ldavis.v3.0.0.js\", function(){\n",
       "        new LDAvis(\"#\" + \"ldavis_el329216514038959688325183768\", ldavis_el329216514038959688325183768_data);\n",
       "      });\n",
       "    });\n",
       "}else{\n",
       "    // require.js not available: dynamically load d3 & LDAvis\n",
       "    LDAvis_load_lib(\"https://d3js.org/d3.v5.js\", function(){\n",
       "         LDAvis_load_lib(\"https://cdn.jsdelivr.net/gh/bmabey/pyLDAvis@3.4.0/pyLDAvis/js/ldavis.v3.0.0.js\", function(){\n",
       "                 new LDAvis(\"#\" + \"ldavis_el329216514038959688325183768\", ldavis_el329216514038959688325183768_data);\n",
       "            })\n",
       "         });\n",
       "}\n",
       "</script>"
      ],
      "text/plain": [
       "<IPython.core.display.HTML object>"
      ]
     },
     "execution_count": 79,
     "metadata": {},
     "output_type": "execute_result"
    }
   ],
   "source": [
    "pyLDAvis.display(lda_display)"
   ]
  },
  {
   "cell_type": "markdown",
   "id": "a3d14c87",
   "metadata": {},
   "source": [
    "Q: What conclusions do you draw from the visualization above? Please address the principal component scatterplot and the salient terms graph.\n",
    "\n",
    "A: The interactive visualization provides details about the types of terms and frequency of terms for each of the 5 topics. Looking at the principal componment scatterpolot and the salient terms, it appears to be an overlap ove terms for some of the topics. For instance, topic 4 seems to overlap 2 and topic 2 and 3 seem to overlap as well. "
   ]
  }
 ],
 "metadata": {
  "kernelspec": {
   "display_name": "Python 3 (ipykernel)",
   "language": "python",
   "name": "python3"
  },
  "language_info": {
   "codemirror_mode": {
    "name": "ipython",
    "version": 3
   },
   "file_extension": ".py",
   "mimetype": "text/x-python",
   "name": "python",
   "nbconvert_exporter": "python",
   "pygments_lexer": "ipython3",
   "version": "3.9.7"
  },
  "vscode": {
   "interpreter": {
    "hash": "7951f347f00c15a6c7244c3e3f597bc8ba51df93b8ab253d0dc61c925351e543"
   }
  }
 },
 "nbformat": 4,
 "nbformat_minor": 5
}
